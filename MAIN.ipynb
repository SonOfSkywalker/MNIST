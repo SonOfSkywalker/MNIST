{
 "cells": [
  {
   "cell_type": "code",
   "execution_count": 1,
   "metadata": {},
   "outputs": [],
   "source": [
    "#array handling and plotting\n",
    "import numpy as np\n",
    "import matplotlib\n",
    "import matplotlib.pyplot as plt"
   ]
  },
  {
   "cell_type": "code",
   "execution_count": 2,
   "metadata": {},
   "outputs": [],
   "source": [
    "#to suppress the warnings\n",
    "import os\n",
    "os.environ['TF_CPP_MIN_LOG_LEVEL'] = '3'\n",
    "import warnings\n",
    "warnings.filterwarnings('ignore')\n",
    "from tensorflow.python.util import deprecation\n",
    "deprecation._PRINT_DEPRECATION_WARNINGS = False"
   ]
  },
  {
   "cell_type": "code",
   "execution_count": 3,
   "metadata": {},
   "outputs": [],
   "source": [
    "from keras.datasets import mnist #importing the dataset\n",
    "from keras.models import Sequential, load_model\n",
    "from keras.layers.core import Dense, Dropout, Activation, Flatten\n",
    "from keras import layers\n",
    "from keras.utils import np_utils"
   ]
  },
  {
   "cell_type": "code",
   "execution_count": 4,
   "metadata": {},
   "outputs": [],
   "source": [
    "import numpy as np\n",
    "import pandas as pd\n",
    "import matplotlib.pyplot as plt\n",
    "import seaborn as sns"
   ]
  },
  {
   "cell_type": "markdown",
   "metadata": {},
   "source": [
    "# Analyzing the dataset"
   ]
  },
  {
   "cell_type": "code",
   "execution_count": 5,
   "metadata": {},
   "outputs": [],
   "source": [
    "(X_train, y_train), (X_test, y_test) = mnist.load_data()"
   ]
  },
  {
   "cell_type": "code",
   "execution_count": 6,
   "metadata": {},
   "outputs": [
    {
     "name": "stdout",
     "output_type": "stream",
     "text": [
      "shape of X_train is :  (60000, 28, 28)\n",
      "shape of y_train is :  (60000,)\n",
      "shape of X_test is :  (10000, 28, 28)\n",
      "shape of y_test is :  (10000,)\n"
     ]
    }
   ],
   "source": [
    "print(\"shape of X_train is : \", X_train.shape)\n",
    "print(\"shape of y_train is : \", y_train.shape)\n",
    "\n",
    "print(\"shape of X_test is : \", X_test.shape)\n",
    "print(\"shape of y_test is : \", y_test.shape)"
   ]
  },
  {
   "cell_type": "code",
   "execution_count": 7,
   "metadata": {},
   "outputs": [
    {
     "name": "stdout",
     "output_type": "stream",
     "text": [
      "X_train is between  0  and  255  // type :  uint8\n",
      "y_train is between  0  and  9  // type :  uint8\n"
     ]
    }
   ],
   "source": [
    "print(\"X_train is between \", X_train.min(),\" and \",X_train.max(), \" // type : \", X_train.dtype)\n",
    "print(\"y_train is between \", y_train.min(),\" and \",y_train.max(), \" // type : \", y_train.dtype)"
   ]
  },
  {
   "cell_type": "code",
   "execution_count": 8,
   "metadata": {},
   "outputs": [
    {
     "name": "stdout",
     "output_type": "stream",
     "text": [
      "[[  0   0   0   0   0   0   0   0   0   0   0   0   0   0   0   0   0   0\n",
      "    0   0   0   0   0   0   0   0   0   0]\n",
      " [  0   0   0   0   0   0   0   0   0   0   0   0   0   0   0   0   0   0\n",
      "    0   0   0   0   0   0   0   0   0   0]\n",
      " [  0   0   0   0   0   0   0   0   0   0   0   0   0   0   0   0   0   0\n",
      "    0   0   0   0   0   0   0   0   0   0]\n",
      " [  0   0   0   0   0   0   0   0   0   0   0   0   0   0   0   0   0   0\n",
      "    0   0   0   0   0   0   0   0   0   0]\n",
      " [  0   0   0   0   0   0   0   0   0   0   0   0   0   0   0   0   0   0\n",
      "    0   0   0   0   0   0   0   0   0   0]\n",
      " [  0   0   0   0   0   0   0   0   0   0   0   0   3  18  18  18 126 136\n",
      "  175  26 166 255 247 127   0   0   0   0]\n",
      " [  0   0   0   0   0   0   0   0  30  36  94 154 170 253 253 253 253 253\n",
      "  225 172 253 242 195  64   0   0   0   0]\n",
      " [  0   0   0   0   0   0   0  49 238 253 253 253 253 253 253 253 253 251\n",
      "   93  82  82  56  39   0   0   0   0   0]\n",
      " [  0   0   0   0   0   0   0  18 219 253 253 253 253 253 198 182 247 241\n",
      "    0   0   0   0   0   0   0   0   0   0]\n",
      " [  0   0   0   0   0   0   0   0  80 156 107 253 253 205  11   0  43 154\n",
      "    0   0   0   0   0   0   0   0   0   0]\n",
      " [  0   0   0   0   0   0   0   0   0  14   1 154 253  90   0   0   0   0\n",
      "    0   0   0   0   0   0   0   0   0   0]\n",
      " [  0   0   0   0   0   0   0   0   0   0   0 139 253 190   2   0   0   0\n",
      "    0   0   0   0   0   0   0   0   0   0]\n",
      " [  0   0   0   0   0   0   0   0   0   0   0  11 190 253  70   0   0   0\n",
      "    0   0   0   0   0   0   0   0   0   0]\n",
      " [  0   0   0   0   0   0   0   0   0   0   0   0  35 241 225 160 108   1\n",
      "    0   0   0   0   0   0   0   0   0   0]\n",
      " [  0   0   0   0   0   0   0   0   0   0   0   0   0  81 240 253 253 119\n",
      "   25   0   0   0   0   0   0   0   0   0]\n",
      " [  0   0   0   0   0   0   0   0   0   0   0   0   0   0  45 186 253 253\n",
      "  150  27   0   0   0   0   0   0   0   0]\n",
      " [  0   0   0   0   0   0   0   0   0   0   0   0   0   0   0  16  93 252\n",
      "  253 187   0   0   0   0   0   0   0   0]\n",
      " [  0   0   0   0   0   0   0   0   0   0   0   0   0   0   0   0   0 249\n",
      "  253 249  64   0   0   0   0   0   0   0]\n",
      " [  0   0   0   0   0   0   0   0   0   0   0   0   0   0  46 130 183 253\n",
      "  253 207   2   0   0   0   0   0   0   0]\n",
      " [  0   0   0   0   0   0   0   0   0   0   0   0  39 148 229 253 253 253\n",
      "  250 182   0   0   0   0   0   0   0   0]\n",
      " [  0   0   0   0   0   0   0   0   0   0  24 114 221 253 253 253 253 201\n",
      "   78   0   0   0   0   0   0   0   0   0]\n",
      " [  0   0   0   0   0   0   0   0  23  66 213 253 253 253 253 198  81   2\n",
      "    0   0   0   0   0   0   0   0   0   0]\n",
      " [  0   0   0   0   0   0  18 171 219 253 253 253 253 195  80   9   0   0\n",
      "    0   0   0   0   0   0   0   0   0   0]\n",
      " [  0   0   0   0  55 172 226 253 253 253 253 244 133  11   0   0   0   0\n",
      "    0   0   0   0   0   0   0   0   0   0]\n",
      " [  0   0   0   0 136 253 253 253 212 135 132  16   0   0   0   0   0   0\n",
      "    0   0   0   0   0   0   0   0   0   0]\n",
      " [  0   0   0   0   0   0   0   0   0   0   0   0   0   0   0   0   0   0\n",
      "    0   0   0   0   0   0   0   0   0   0]\n",
      " [  0   0   0   0   0   0   0   0   0   0   0   0   0   0   0   0   0   0\n",
      "    0   0   0   0   0   0   0   0   0   0]\n",
      " [  0   0   0   0   0   0   0   0   0   0   0   0   0   0   0   0   0   0\n",
      "    0   0   0   0   0   0   0   0   0   0]]\n"
     ]
    }
   ],
   "source": [
    "print(X_train[0])"
   ]
  },
  {
   "cell_type": "code",
   "execution_count": 9,
   "metadata": {
    "scrolled": true
   },
   "outputs": [
    {
     "data": {
      "image/png": "[encoded data removed]",
      "text/plain": [
       "<Figure size 432x288 with 10 Axes>"
      ]
     },
     "metadata": {},
     "output_type": "display_data"
    }
   ],
   "source": [
    "for i in range(10):\n",
    "    plt.subplot(3, 5, i+1)\n",
    "    plt.tight_layout()\n",
    "    plt.imshow(X_train[i], cmap='gray', interpolation='none')\n",
    "    plt.title(\"Digits: {}\".format(y_train[i]))\n",
    "    plt.xticks([])\n",
    "    plt.yticks([])"
   ]
  },
  {
   "cell_type": "code",
   "execution_count": 10,
   "metadata": {},
   "outputs": [],
   "source": [
    "X_train = X_train.reshape(60000, 784)\n",
    "X_test = X_test.reshape(10000, 784) "
   ]
  },
  {
   "cell_type": "code",
   "execution_count": 11,
   "metadata": {},
   "outputs": [],
   "source": [
    "y_train = np_utils.to_categorical(y_train, 10)\n",
    "y_test = np_utils.to_categorical(y_test, 10)"
   ]
  },
  {
   "cell_type": "code",
   "execution_count": 12,
   "metadata": {},
   "outputs": [
    {
     "name": "stdout",
     "output_type": "stream",
     "text": [
      "shape of X_train is :  (60000, 784)\n",
      "shape of y_train is :  (60000, 10)\n",
      "shape of X_test is :  (10000, 784)\n",
      "shape of y_test is :  (10000, 10)\n"
     ]
    }
   ],
   "source": [
    "print(\"shape of X_train is : \", X_train.shape)\n",
    "print(\"shape of y_train is : \", y_train.shape)\n",
    "\n",
    "print(\"shape of X_test is : \", X_test.shape)\n",
    "print(\"shape of y_test is : \", y_test.shape)"
   ]
  },
  {
   "cell_type": "code",
   "execution_count": 13,
   "metadata": {},
   "outputs": [
    {
     "name": "stdout",
     "output_type": "stream",
     "text": [
      "X_train is between  0  and  255  // type :  uint8\n",
      "y_train is between  0.0  and  1.0  // type :  float32\n"
     ]
    }
   ],
   "source": [
    "print(\"X_train is between \", X_train.min(),\" and \",X_train.max(), \" // type : \", X_train.dtype)\n",
    "print(\"y_train is between \", y_train.min(),\" and \",y_train.max(), \" // type : \", y_train.dtype)"
   ]
  },
  {
   "cell_type": "code",
   "execution_count": 14,
   "metadata": {},
   "outputs": [
    {
     "name": "stdout",
     "output_type": "stream",
     "text": [
      "[5923. 6742. 5958. 6131. 5842. 5421. 5918. 6265. 5851. 5949.]\n",
      "[ 980. 1135. 1032. 1010.  982.  892.  958. 1028.  974. 1009.]\n"
     ]
    }
   ],
   "source": [
    "#number of each digit in the train set\n",
    "tempo=y_train.tolist()\n",
    "counter_train=np.zeros((10))\n",
    "element=[0.0, 0.0, 0.0, 0.0, 0.0, 0.0, 0.0, 0.0, 0.0, 0.0]\n",
    "for i in range (10):\n",
    "    element[i]=1.0\n",
    "    counter_train[i]=tempo.count(element)\n",
    "    element[i]=0.0\n",
    "\n",
    "print(counter_train)\n",
    "\n",
    "#number of each digit in the test set\n",
    "tempo=y_test.tolist()\n",
    "counter_test=np.zeros((10))\n",
    "element=[0.0, 0.0, 0.0, 0.0, 0.0, 0.0, 0.0, 0.0, 0.0, 0.0]\n",
    "for i in range (10):\n",
    "    element[i]=1.0\n",
    "    counter_test[i]=tempo.count(element)\n",
    "    element[i]=0.0\n",
    "\n",
    "print(counter_test)"
   ]
  },
  {
   "cell_type": "code",
   "execution_count": 15,
   "metadata": {},
   "outputs": [
    {
     "data": {
      "text/plain": [
       "[<matplotlib.lines.Line2D at 0x19861ab9a60>]"
      ]
     },
     "execution_count": 15,
     "metadata": {},
     "output_type": "execute_result"
    },
    {
     "data": {
      "image/png": "[encoded data removed]",
      "text/plain": [
       "<Figure size 432x288 with 1 Axes>"
      ]
     },
     "metadata": {
      "needs_background": "light"
     },
     "output_type": "display_data"
    }
   ],
   "source": [
    "X=[0,1,2,3,4,5,6,7,8,9]\n",
    "plt.plot(X,counter_train)"
   ]
  },
  {
   "cell_type": "code",
   "execution_count": 16,
   "metadata": {},
   "outputs": [
    {
     "data": {
      "text/plain": [
       "[<matplotlib.lines.Line2D at 0x1985e4138b0>]"
      ]
     },
     "execution_count": 16,
     "metadata": {},
     "output_type": "execute_result"
    },
    {
     "data": {
      "image/png": "[encoded data removed]",
      "text/plain": [
       "<Figure size 432x288 with 1 Axes>"
      ]
     },
     "metadata": {
      "needs_background": "light"
     },
     "output_type": "display_data"
    }
   ],
   "source": [
    "X=[0,1,2,3,4,5,6,7,8,9]\n",
    "plt.plot(X,counter_test)"
   ]
  },
  {
   "cell_type": "markdown",
   "metadata": {},
   "source": [
    "# First model"
   ]
  },
  {
   "cell_type": "code",
   "execution_count": 17,
   "metadata": {},
   "outputs": [],
   "source": [
    "model = Sequential()\n",
    "model.add(Dense(512, activation='relu', input_shape=(28* 28, )))\n",
    "model.add(Dropout(0.2))\n",
    "model.add(Dense(512, activation='relu'))\n",
    "model.add(Dropout(0.2))\n",
    "model.add(Dense(10, activation=\"softmax\"))\n",
    "\n",
    "model.compile(loss='categorical_crossentropy', metrics=['acc'], optimizer='adam')"
   ]
  },
  {
   "cell_type": "code",
   "execution_count": 18,
   "metadata": {},
   "outputs": [
    {
     "name": "stdout",
     "output_type": "stream",
     "text": [
      "Epoch 1/40\n",
      "469/469 - 29s - loss: 3.0095 - acc: 0.8670 - val_loss: 0.3395 - val_acc: 0.9445\n",
      "Epoch 2/40\n",
      "469/469 - 5s - loss: 0.4434 - acc: 0.9213 - val_loss: 0.1832 - val_acc: 0.9517\n",
      "Epoch 3/40\n",
      "469/469 - 5s - loss: 0.2600 - acc: 0.9383 - val_loss: 0.1562 - val_acc: 0.9601\n",
      "Epoch 4/40\n",
      "469/469 - 6s - loss: 0.1962 - acc: 0.9486 - val_loss: 0.1299 - val_acc: 0.9649\n",
      "Epoch 5/40\n",
      "469/469 - 6s - loss: 0.1677 - acc: 0.9557 - val_loss: 0.1239 - val_acc: 0.9663\n",
      "Epoch 6/40\n",
      "469/469 - 5s - loss: 0.1557 - acc: 0.9590 - val_loss: 0.1275 - val_acc: 0.9653\n",
      "Epoch 7/40\n",
      "469/469 - 5s - loss: 0.1466 - acc: 0.9610 - val_loss: 0.1373 - val_acc: 0.9655\n",
      "Epoch 8/40\n",
      "469/469 - 5s - loss: 0.1464 - acc: 0.9606 - val_loss: 0.1249 - val_acc: 0.9653\n",
      "Epoch 9/40\n",
      "469/469 - 5s - loss: 0.1369 - acc: 0.9629 - val_loss: 0.1304 - val_acc: 0.9679\n",
      "Epoch 10/40\n",
      "469/469 - 5s - loss: 0.1435 - acc: 0.9620 - val_loss: 0.1133 - val_acc: 0.9689\n",
      "Epoch 11/40\n",
      "469/469 - 5s - loss: 0.1357 - acc: 0.9649 - val_loss: 0.1312 - val_acc: 0.9691\n",
      "Epoch 12/40\n",
      "469/469 - 5s - loss: 0.1369 - acc: 0.9649 - val_loss: 0.1244 - val_acc: 0.9691\n",
      "Epoch 13/40\n",
      "469/469 - 5s - loss: 0.1315 - acc: 0.9654 - val_loss: 0.1059 - val_acc: 0.9721\n",
      "Epoch 14/40\n",
      "469/469 - 5s - loss: 0.1309 - acc: 0.9658 - val_loss: 0.1256 - val_acc: 0.9668\n",
      "Epoch 15/40\n",
      "469/469 - 5s - loss: 0.1293 - acc: 0.9667 - val_loss: 0.1222 - val_acc: 0.9687\n",
      "Epoch 16/40\n",
      "469/469 - 5s - loss: 0.1228 - acc: 0.9688 - val_loss: 0.1331 - val_acc: 0.9673\n",
      "Epoch 17/40\n",
      "469/469 - 5s - loss: 0.1286 - acc: 0.9683 - val_loss: 0.1245 - val_acc: 0.9726\n",
      "Epoch 18/40\n",
      "469/469 - 5s - loss: 0.1138 - acc: 0.9714 - val_loss: 0.1490 - val_acc: 0.9715\n",
      "Epoch 19/40\n",
      "469/469 - 5s - loss: 0.1198 - acc: 0.9706 - val_loss: 0.1181 - val_acc: 0.9716\n",
      "Epoch 20/40\n",
      "469/469 - 5s - loss: 0.1137 - acc: 0.9724 - val_loss: 0.1137 - val_acc: 0.9761\n",
      "Epoch 21/40\n",
      "469/469 - 5s - loss: 0.1157 - acc: 0.9714 - val_loss: 0.1297 - val_acc: 0.9744\n",
      "Epoch 22/40\n",
      "469/469 - 5s - loss: 0.1180 - acc: 0.9720 - val_loss: 0.1086 - val_acc: 0.9726\n",
      "Epoch 23/40\n",
      "469/469 - 5s - loss: 0.1034 - acc: 0.9739 - val_loss: 0.1149 - val_acc: 0.9771\n",
      "Epoch 24/40\n",
      "469/469 - 5s - loss: 0.0962 - acc: 0.9760 - val_loss: 0.1375 - val_acc: 0.9759\n",
      "Epoch 25/40\n",
      "469/469 - 5s - loss: 0.0995 - acc: 0.9753 - val_loss: 0.1624 - val_acc: 0.9725\n",
      "Epoch 26/40\n",
      "469/469 - 5s - loss: 0.0994 - acc: 0.9758 - val_loss: 0.1491 - val_acc: 0.9750\n",
      "Epoch 27/40\n",
      "469/469 - 5s - loss: 0.1046 - acc: 0.9752 - val_loss: 0.1239 - val_acc: 0.9760\n",
      "Epoch 28/40\n",
      "469/469 - 5s - loss: 0.0968 - acc: 0.9772 - val_loss: 0.1582 - val_acc: 0.9746\n",
      "Epoch 29/40\n",
      "469/469 - 5s - loss: 0.0949 - acc: 0.9779 - val_loss: 0.1229 - val_acc: 0.9774\n",
      "Epoch 30/40\n",
      "469/469 - 5s - loss: 0.0896 - acc: 0.9784 - val_loss: 0.1672 - val_acc: 0.9757\n",
      "Epoch 31/40\n",
      "469/469 - 5s - loss: 0.0986 - acc: 0.9779 - val_loss: 0.1402 - val_acc: 0.9741\n",
      "Epoch 32/40\n",
      "469/469 - 5s - loss: 0.0930 - acc: 0.9781 - val_loss: 0.1550 - val_acc: 0.9745\n",
      "Epoch 33/40\n",
      "469/469 - 5s - loss: 0.0993 - acc: 0.9780 - val_loss: 0.1248 - val_acc: 0.9787\n",
      "Epoch 34/40\n",
      "469/469 - 5s - loss: 0.0830 - acc: 0.9796 - val_loss: 0.1504 - val_acc: 0.9745\n",
      "Epoch 35/40\n",
      "469/469 - 5s - loss: 0.0892 - acc: 0.9797 - val_loss: 0.1551 - val_acc: 0.9776\n",
      "Epoch 36/40\n",
      "469/469 - 5s - loss: 0.0863 - acc: 0.9809 - val_loss: 0.1625 - val_acc: 0.9730\n",
      "Epoch 37/40\n",
      "469/469 - 6s - loss: 0.0984 - acc: 0.9789 - val_loss: 0.1682 - val_acc: 0.9762\n",
      "Epoch 38/40\n",
      "469/469 - 6s - loss: 0.0895 - acc: 0.9800 - val_loss: 0.1815 - val_acc: 0.9740\n",
      "Epoch 39/40\n",
      "469/469 - 5s - loss: 0.0878 - acc: 0.9803 - val_loss: 0.1405 - val_acc: 0.9763\n",
      "Epoch 40/40\n",
      "469/469 - 5s - loss: 0.0790 - acc: 0.9814 - val_loss: 0.1898 - val_acc: 0.9773\n"
     ]
    }
   ],
   "source": [
    "history = model.fit(X_train, y_train,  validation_data=(X_test, y_test), batch_size=128, epochs= 40, verbose=2)"
   ]
  },
  {
   "cell_type": "code",
   "execution_count": 19,
   "metadata": {},
   "outputs": [],
   "source": [
    "import matplotlib.pyplot as plt\n",
    "def show_acc(history):\n",
    "    acc = history.history['acc']\n",
    "    val_acc = history.history['val_acc']\n",
    "    loss = history.history['loss']\n",
    "    val_loss = history.history['val_loss']\n",
    "    print(\"Train accuracy :\", history.history['acc'][-1])\n",
    "    print(\"Test accuracy  :\", history.history['val_acc'][-1])\n",
    "    epochs = range(len(acc))\n",
    "\n",
    "    plt.plot(epochs, acc, 'b', label='Training acc')\n",
    "    plt.plot(epochs, val_acc, 'm', label='Testing acc')\n",
    "    plt.title('Training and testing accuracy')\n",
    "    plt.legend()\n",
    "\n",
    "    plt.figure()\n",
    "    \n",
    "    plt.plot(epochs, loss, 'b', label='Training loss')\n",
    "    plt.plot(epochs, val_loss, 'm', label='Testing loss')\n",
    "    plt.title('Training and test loss')\n",
    "    plt.legend()\n",
    "\n",
    "    plt.show()"
   ]
  },
  {
   "cell_type": "code",
   "execution_count": 20,
   "metadata": {
    "scrolled": true
   },
   "outputs": [
    {
     "name": "stdout",
     "output_type": "stream",
     "text": [
      "Train accuracy : 0.9813833236694336\n",
      "Test accuracy  : 0.9772999882698059\n"
     ]
    },
    {
     "data": {
      "image/png": "[encoded data removed]",
      "text/plain": [
       "<Figure size 432x288 with 1 Axes>"
      ]
     },
     "metadata": {
      "needs_background": "light"
     },
     "output_type": "display_data"
    },
    {
     "data": {
      "image/png": "[encoded data removed]",
      "text/plain": [
       "<Figure size 432x288 with 1 Axes>"
      ]
     },
     "metadata": {
      "needs_background": "light"
     },
     "output_type": "display_data"
    }
   ],
   "source": [
    "show_acc(history)"
   ]
  },
  {
   "cell_type": "code",
   "execution_count": 22,
   "metadata": {},
   "outputs": [],
   "source": [
    "predictions = model.predict(X_test)"
   ]
  },
  {
   "cell_type": "code",
   "execution_count": 24,
   "metadata": {},
   "outputs": [],
   "source": [
    "delta=0.1\n",
    "predicitions_modified=np.zeros(predictions.shape)\n",
    "for i in range(predictions.shape[0]):\n",
    "    for j in range (predictions.shape[1]):\n",
    "        if(predictions[i][j]>1-delta):\n",
    "            predicitions_modified[i][j]=1"
   ]
  },
  {
   "cell_type": "code",
   "execution_count": 25,
   "metadata": {},
   "outputs": [
    {
     "name": "stdout",
     "output_type": "stream",
     "text": [
      "9618  predictions were correct \n",
      "382  predictions were incorrect \n",
      "96.18\n"
     ]
    }
   ],
   "source": [
    "correct=0\n",
    "incorrect=0\n",
    "for i in range (len(predictions)):\n",
    "    if ((predicitions_modified[i]==y_test[i]).all()):\n",
    "        correct+=1\n",
    "    else:\n",
    "        incorrect+=1\n",
    "print(correct, \" predictions were correct \")\n",
    "print(incorrect, \" predictions were incorrect \")\n",
    "print(100*correct/(correct+incorrect))"
   ]
  },
  {
   "cell_type": "code",
   "execution_count": 26,
   "metadata": {},
   "outputs": [],
   "source": [
    "y_test_numerical=np.argmax(y_test, axis=1)"
   ]
  },
  {
   "cell_type": "code",
   "execution_count": 27,
   "metadata": {},
   "outputs": [],
   "source": [
    "predicitions_modified_numerical=np.argmax(predicitions_modified, axis=1)"
   ]
  },
  {
   "cell_type": "code",
   "execution_count": 29,
   "metadata": {},
   "outputs": [],
   "source": [
    "from sklearn.metrics import confusion_matrix\n",
    "confused=confusion_matrix(y_test_numerical, predicitions_modified_numerical)  "
   ]
  },
  {
   "cell_type": "code",
   "execution_count": 30,
   "metadata": {},
   "outputs": [
    {
     "data": {
      "text/plain": [
       "(10, 10)"
      ]
     },
     "execution_count": 30,
     "metadata": {},
     "output_type": "execute_result"
    }
   ],
   "source": [
    "confused.shape"
   ]
  },
  {
   "cell_type": "code",
   "execution_count": 187,
   "metadata": {},
   "outputs": [
    {
     "data": {
      "text/plain": [
       "array([[ 977,    0,    0,    0,    0,    0,    2,    1,    0,    0],\n",
       "       [  24, 1104,    1,    1,    1,    1,    2,    1,    0,    0],\n",
       "       [  24,    0,  999,    3,    4,    0,    0,    1,    1,    0],\n",
       "       [  67,    0,    0,  920,    0,   19,    0,    4,    0,    0],\n",
       "       [  50,    0,    1,    1,  920,    0,    4,    1,    0,    5],\n",
       "       [  18,    0,    0,    1,    0,  870,    2,    0,    1,    0],\n",
       "       [  21,    1,    0,    0,    1,    4,  930,    0,    1,    0],\n",
       "       [  29,    0,    8,    0,    0,    0,    0,  991,    0,    0],\n",
       "       [  70,    0,    1,    1,    0,    4,    0,    3,  895,    0],\n",
       "       [  91,    2,    0,    0,    3,    1,    0,    1,    0,  911]],\n",
       "      dtype=int64)"
      ]
     },
     "execution_count": 187,
     "metadata": {},
     "output_type": "execute_result"
    }
   ],
   "source": [
    "confused"
   ]
  },
  {
   "cell_type": "code",
   "execution_count": 31,
   "metadata": {},
   "outputs": [],
   "source": [
    "y_train_numerical=mnist.load_data()[0][1]"
   ]
  },
  {
   "cell_type": "code",
   "execution_count": null,
   "metadata": {},
   "outputs": [],
   "source": [
    "#Code taken from https://scikit-learn.org/stable/auto_examples/model_selection/plot_confusion_matrix.html\n",
    "\n",
    "from sklearn import svm, datasets\n",
    "\n",
    "classifier = svm.SVC(kernel=\"linear\", C=0.01).fit(X_train, y_train_numerical)\n",
    "\n",
    "np.set_printoptions(precision=2)\n",
    "\n",
    "# Plot non-normalized confusion matrix\n",
    "titles_options = [\n",
    "    (\"Confusion matrix, without normalization\", None),\n",
    "    (\"Normalized confusion matrix\", \"true\"),\n",
    "]\n",
    "for title, normalize in titles_options:\n",
    "    disp = ConfusionMatrixDisplay.from_estimator(\n",
    "        classifier,\n",
    "        X_test,\n",
    "        y_test,\n",
    "        display_labels=class_names,\n",
    "        cmap=plt.cm.Blues,\n",
    "        normalize=normalize,\n",
    "    )\n",
    "    disp.ax_.set_title(title)\n",
    "\n",
    "    print(title)\n",
    "    print(disp.confusion_matrix)\n",
    "# y_test_numerical, predicitions_modified_numerical\n",
    "# plt.show()"
   ]
  },
  {
   "cell_type": "code",
   "execution_count": 186,
   "metadata": {},
   "outputs": [
    {
     "data": {
      "text/plain": [
       "array([ 980, 1135, 1032, 1010,  982,  892,  958, 1028,  974, 1009],\n",
       "      dtype=int64)"
      ]
     },
     "execution_count": 186,
     "metadata": {},
     "output_type": "execute_result"
    }
   ],
   "source": [
    "confused.sum(axis=1)"
   ]
  },
  {
   "cell_type": "markdown",
   "metadata": {},
   "source": [
    "# Second model"
   ]
  },
  {
   "cell_type": "code",
   "execution_count": 22,
   "metadata": {},
   "outputs": [],
   "source": [
    "model = Sequential()\n",
    "model.add(Dense(512, activation='relu', input_shape=(28* 28, )))\n",
    "model.add(Dropout(0.1))\n",
    "model.add(Dense(512, activation='relu'))\n",
    "model.add(Dropout(0.1))\n",
    "model.add(Dense(10, activation=\"softmax\"))\n",
    "\n",
    "model.compile(loss='categorical_crossentropy', metrics=['acc'], optimizer='adam')"
   ]
  },
  {
   "cell_type": "code",
   "execution_count": 23,
   "metadata": {},
   "outputs": [
    {
     "name": "stdout",
     "output_type": "stream",
     "text": [
      "Epoch 1/40\n",
      "469/469 - 7s - loss: 2.5463 - acc: 0.8865 - val_loss: 0.3104 - val_acc: 0.9444\n",
      "Epoch 2/40\n",
      "469/469 - 5s - loss: 0.3125 - acc: 0.9383 - val_loss: 0.1983 - val_acc: 0.9550\n",
      "Epoch 3/40\n",
      "469/469 - 5s - loss: 0.1911 - acc: 0.9540 - val_loss: 0.1584 - val_acc: 0.9608\n",
      "Epoch 4/40\n",
      "469/469 - 5s - loss: 0.1473 - acc: 0.9616 - val_loss: 0.1640 - val_acc: 0.9604\n",
      "Epoch 5/40\n",
      "469/469 - 5s - loss: 0.1353 - acc: 0.9649 - val_loss: 0.1489 - val_acc: 0.9637\n",
      "Epoch 6/40\n",
      "469/469 - 5s - loss: 0.1258 - acc: 0.9668 - val_loss: 0.1501 - val_acc: 0.9673\n",
      "Epoch 7/40\n",
      "469/469 - 5s - loss: 0.1146 - acc: 0.9693 - val_loss: 0.1431 - val_acc: 0.9671\n",
      "Epoch 8/40\n",
      "469/469 - 5s - loss: 0.1146 - acc: 0.9697 - val_loss: 0.1420 - val_acc: 0.9662\n",
      "Epoch 9/40\n",
      "469/469 - 5s - loss: 0.1097 - acc: 0.9708 - val_loss: 0.1731 - val_acc: 0.9640\n",
      "Epoch 10/40\n",
      "469/469 - 5s - loss: 0.1092 - acc: 0.9706 - val_loss: 0.1500 - val_acc: 0.9670\n",
      "Epoch 11/40\n",
      "469/469 - 5s - loss: 0.1072 - acc: 0.9718 - val_loss: 0.1616 - val_acc: 0.9696\n",
      "Epoch 12/40\n",
      "469/469 - 5s - loss: 0.1187 - acc: 0.9699 - val_loss: 0.1510 - val_acc: 0.9704\n",
      "Epoch 13/40\n",
      "469/469 - 5s - loss: 0.1028 - acc: 0.9738 - val_loss: 0.1518 - val_acc: 0.9695\n",
      "Epoch 14/40\n",
      "469/469 - 5s - loss: 0.1001 - acc: 0.9743 - val_loss: 0.1374 - val_acc: 0.9713\n",
      "Epoch 15/40\n",
      "469/469 - 5s - loss: 0.0987 - acc: 0.9750 - val_loss: 0.1567 - val_acc: 0.9706\n",
      "Epoch 16/40\n",
      "469/469 - 5s - loss: 0.0967 - acc: 0.9759 - val_loss: 0.1561 - val_acc: 0.9737\n",
      "Epoch 17/40\n",
      "469/469 - 5s - loss: 0.0964 - acc: 0.9755 - val_loss: 0.1691 - val_acc: 0.9688\n",
      "Epoch 18/40\n",
      "469/469 - 5s - loss: 0.1059 - acc: 0.9751 - val_loss: 0.2068 - val_acc: 0.9673\n",
      "Epoch 19/40\n",
      "469/469 - 5s - loss: 0.0894 - acc: 0.9774 - val_loss: 0.1508 - val_acc: 0.9734\n",
      "Epoch 20/40\n",
      "469/469 - 5s - loss: 0.0891 - acc: 0.9789 - val_loss: 0.1656 - val_acc: 0.9691\n",
      "Epoch 21/40\n",
      "469/469 - 5s - loss: 0.0764 - acc: 0.9811 - val_loss: 0.1451 - val_acc: 0.9704\n",
      "Epoch 22/40\n",
      "469/469 - 6s - loss: 0.0879 - acc: 0.9797 - val_loss: 0.1472 - val_acc: 0.9753\n",
      "Epoch 23/40\n",
      "469/469 - 5s - loss: 0.0857 - acc: 0.9793 - val_loss: 0.1462 - val_acc: 0.9735\n",
      "Epoch 24/40\n",
      "469/469 - 5s - loss: 0.0709 - acc: 0.9821 - val_loss: 0.1553 - val_acc: 0.9744\n",
      "Epoch 25/40\n",
      "469/469 - 5s - loss: 0.0843 - acc: 0.9796 - val_loss: 0.1428 - val_acc: 0.9748\n",
      "Epoch 26/40\n",
      "469/469 - 5s - loss: 0.0800 - acc: 0.9809 - val_loss: 0.2188 - val_acc: 0.9726\n",
      "Epoch 27/40\n",
      "469/469 - 6s - loss: 0.0772 - acc: 0.9816 - val_loss: 0.1764 - val_acc: 0.9724\n",
      "Epoch 28/40\n",
      "469/469 - 5s - loss: 0.0755 - acc: 0.9832 - val_loss: 0.1635 - val_acc: 0.9775\n",
      "Epoch 29/40\n",
      "469/469 - 5s - loss: 0.0755 - acc: 0.9834 - val_loss: 0.1675 - val_acc: 0.9747\n",
      "Epoch 30/40\n",
      "469/469 - 5s - loss: 0.0634 - acc: 0.9848 - val_loss: 0.1977 - val_acc: 0.9732\n",
      "Epoch 31/40\n",
      "469/469 - 5s - loss: 0.0674 - acc: 0.9847 - val_loss: 0.1641 - val_acc: 0.9765\n",
      "Epoch 32/40\n",
      "469/469 - 5s - loss: 0.0773 - acc: 0.9832 - val_loss: 0.1931 - val_acc: 0.9737\n",
      "Epoch 33/40\n",
      "469/469 - 5s - loss: 0.0794 - acc: 0.9823 - val_loss: 0.1764 - val_acc: 0.9756\n",
      "Epoch 34/40\n",
      "469/469 - 5s - loss: 0.0763 - acc: 0.9834 - val_loss: 0.1735 - val_acc: 0.9756\n",
      "Epoch 35/40\n",
      "469/469 - 5s - loss: 0.0625 - acc: 0.9850 - val_loss: 0.2046 - val_acc: 0.9773\n",
      "Epoch 36/40\n",
      "469/469 - 5s - loss: 0.0605 - acc: 0.9867 - val_loss: 0.1987 - val_acc: 0.9740\n",
      "Epoch 37/40\n",
      "469/469 - 5s - loss: 0.0602 - acc: 0.9860 - val_loss: 0.2119 - val_acc: 0.9771\n",
      "Epoch 38/40\n",
      "469/469 - 5s - loss: 0.0626 - acc: 0.9864 - val_loss: 0.2171 - val_acc: 0.9752\n",
      "Epoch 39/40\n",
      "469/469 - 5s - loss: 0.0627 - acc: 0.9859 - val_loss: 0.1903 - val_acc: 0.9766\n",
      "Epoch 40/40\n",
      "469/469 - 5s - loss: 0.0595 - acc: 0.9872 - val_loss: 0.2076 - val_acc: 0.9787\n"
     ]
    }
   ],
   "source": [
    "history = model.fit(X_train, y_train,  validation_data=(X_test, y_test), batch_size=128, epochs= 40, verbose=2)"
   ]
  },
  {
   "cell_type": "code",
   "execution_count": 24,
   "metadata": {},
   "outputs": [],
   "source": [
    "import matplotlib.pyplot as plt\n",
    "def show_acc(history):\n",
    "    acc = history.history['acc']\n",
    "    val_acc = history.history['val_acc']\n",
    "    loss = history.history['loss']\n",
    "    val_loss = history.history['val_loss']\n",
    "    print(\"Train accuracy :\", history.history['acc'][-1])\n",
    "    print(\"Test accuracy  :\", history.history['val_acc'][-1])\n",
    "    epochs = range(len(acc))\n",
    "\n",
    "    plt.plot(epochs, acc, 'b', label='Training acc')\n",
    "    plt.plot(epochs, val_acc, 'm', label='Testing acc')\n",
    "    plt.title('Training and testing accuracy')\n",
    "    plt.legend()\n",
    "\n",
    "    plt.figure()\n",
    "    \n",
    "    plt.plot(epochs, loss, 'b', label='Training loss')\n",
    "    plt.plot(epochs, val_loss, 'm', label='Testing loss')\n",
    "    plt.title('Training and test loss')\n",
    "    plt.legend()\n",
    "\n",
    "    plt.show()"
   ]
  },
  {
   "cell_type": "code",
   "execution_count": 25,
   "metadata": {
    "scrolled": true
   },
   "outputs": [
    {
     "name": "stdout",
     "output_type": "stream",
     "text": [
      "Train accuracy : 0.9872499704360962\n",
      "Test accuracy  : 0.9786999821662903\n"
     ]
    },
    {
     "data": {
      "image/png": "[encoded data removed]",
      "text/plain": [
       "<Figure size 432x288 with 1 Axes>"
      ]
     },
     "metadata": {
      "needs_background": "light"
     },
     "output_type": "display_data"
    },
    {
     "data": {
      "image/png": "[encoded data removed]",
      "text/plain": [
       "<Figure size 432x288 with 1 Axes>"
      ]
     },
     "metadata": {
      "needs_background": "light"
     },
     "output_type": "display_data"
    }
   ],
   "source": [
    "show_acc(history)"
   ]
  },
  {
   "cell_type": "code",
   "execution_count": 26,
   "metadata": {},
   "outputs": [],
   "source": [
    "predictions = model.predict(X_test)"
   ]
  },
  {
   "cell_type": "code",
   "execution_count": 27,
   "metadata": {},
   "outputs": [],
   "source": [
    "delta=0.1\n",
    "predicitions_modified=np.zeros(predictions.shape)\n",
    "for i in range(predictions.shape[0]):\n",
    "    for j in range (predictions.shape[1]):\n",
    "        if(predictions[i][j]>1-delta):\n",
    "            predicitions_modified[i][j]=1"
   ]
  },
  {
   "cell_type": "code",
   "execution_count": 29,
   "metadata": {},
   "outputs": [
    {
     "name": "stdout",
     "output_type": "stream",
     "text": [
      "9659  predictions were correct \n",
      "341  predictions were incorrect \n",
      "96.59\n"
     ]
    }
   ],
   "source": [
    "correct=0\n",
    "incorrect=0\n",
    "for i in range (len(predictions)):\n",
    "    if ((predicitions_modified[i]==y_test[i]).all()):\n",
    "        correct+=1\n",
    "    else:\n",
    "        incorrect+=1\n",
    "print(correct, \" predictions were correct \")\n",
    "print(incorrect, \" predictions were incorrect \")\n",
    "print(100*correct/(correct+incorrect))"
   ]
  },
  {
   "cell_type": "markdown",
   "metadata": {},
   "source": [
    "# Third model"
   ]
  },
  {
   "cell_type": "code",
   "execution_count": 30,
   "metadata": {},
   "outputs": [],
   "source": [
    "(X_train, y_train), (X_test, y_test) = mnist.load_data()"
   ]
  },
  {
   "cell_type": "code",
   "execution_count": 31,
   "metadata": {},
   "outputs": [],
   "source": [
    "X_train = X_train.reshape(60000, 784)\n",
    "X_test = X_test.reshape(10000, 784)"
   ]
  },
  {
   "cell_type": "code",
   "execution_count": 32,
   "metadata": {},
   "outputs": [],
   "source": [
    "y_train = np_utils.to_categorical(y_train, 10)\n",
    "y_test = np_utils.to_categorical(y_test, 10)"
   ]
  },
  {
   "cell_type": "code",
   "execution_count": 33,
   "metadata": {},
   "outputs": [],
   "source": [
    "model = Sequential()\n",
    "model.add(Dense(450, activation='relu', input_shape=(28* 28, )))\n",
    "model.add(Dropout(0.1))\n",
    "model.add(Dense(350, activation='relu'))\n",
    "model.add(Dropout(0.1))\n",
    "model.add(Dense(10, activation=\"softmax\"))\n",
    "\n",
    "model.compile(loss='categorical_crossentropy', metrics=['acc'], optimizer='adam')"
   ]
  },
  {
   "cell_type": "code",
   "execution_count": 34,
   "metadata": {},
   "outputs": [
    {
     "name": "stdout",
     "output_type": "stream",
     "text": [
      "Epoch 1/40\n",
      "469/469 - 6s - loss: 2.6422 - acc: 0.8772 - val_loss: 0.3307 - val_acc: 0.9393\n",
      "Epoch 2/40\n",
      "469/469 - 4s - loss: 0.3451 - acc: 0.9270 - val_loss: 0.2116 - val_acc: 0.9493\n",
      "Epoch 3/40\n",
      "469/469 - 4s - loss: 0.2096 - acc: 0.9482 - val_loss: 0.1697 - val_acc: 0.9558\n",
      "Epoch 4/40\n",
      "469/469 - 4s - loss: 0.1696 - acc: 0.9549 - val_loss: 0.1669 - val_acc: 0.9603\n",
      "Epoch 5/40\n",
      "469/469 - 4s - loss: 0.1418 - acc: 0.9610 - val_loss: 0.1465 - val_acc: 0.9638\n",
      "Epoch 6/40\n",
      "469/469 - 4s - loss: 0.1240 - acc: 0.9653 - val_loss: 0.1527 - val_acc: 0.9639\n",
      "Epoch 7/40\n",
      "469/469 - 4s - loss: 0.1183 - acc: 0.9661 - val_loss: 0.1554 - val_acc: 0.9646\n",
      "Epoch 8/40\n",
      "469/469 - 4s - loss: 0.1202 - acc: 0.9677 - val_loss: 0.1435 - val_acc: 0.9659\n",
      "Epoch 9/40\n",
      "469/469 - 4s - loss: 0.1143 - acc: 0.9700 - val_loss: 0.1320 - val_acc: 0.9681\n",
      "Epoch 10/40\n",
      "469/469 - 5s - loss: 0.1033 - acc: 0.9714 - val_loss: 0.1277 - val_acc: 0.9700\n",
      "Epoch 11/40\n",
      "469/469 - 5s - loss: 0.1060 - acc: 0.9715 - val_loss: 0.1822 - val_acc: 0.9652\n",
      "Epoch 12/40\n",
      "469/469 - 5s - loss: 0.1035 - acc: 0.9719 - val_loss: 0.1267 - val_acc: 0.9713\n",
      "Epoch 13/40\n",
      "469/469 - 4s - loss: 0.0945 - acc: 0.9745 - val_loss: 0.1301 - val_acc: 0.9714\n",
      "Epoch 14/40\n",
      "469/469 - 5s - loss: 0.1160 - acc: 0.9705 - val_loss: 0.1381 - val_acc: 0.9715\n",
      "Epoch 15/40\n",
      "469/469 - 5s - loss: 0.0969 - acc: 0.9739 - val_loss: 0.1434 - val_acc: 0.9685\n",
      "Epoch 16/40\n",
      "469/469 - 4s - loss: 0.0902 - acc: 0.9761 - val_loss: 0.1420 - val_acc: 0.9736\n",
      "Epoch 17/40\n",
      "469/469 - 5s - loss: 0.0921 - acc: 0.9759 - val_loss: 0.1421 - val_acc: 0.9719\n",
      "Epoch 18/40\n",
      "469/469 - 5s - loss: 0.0902 - acc: 0.9762 - val_loss: 0.1397 - val_acc: 0.9738\n",
      "Epoch 19/40\n",
      "469/469 - 4s - loss: 0.0818 - acc: 0.9791 - val_loss: 0.1464 - val_acc: 0.9724\n",
      "Epoch 20/40\n",
      "469/469 - 4s - loss: 0.0819 - acc: 0.9787 - val_loss: 0.1424 - val_acc: 0.9720\n",
      "Epoch 21/40\n",
      "469/469 - 4s - loss: 0.0815 - acc: 0.9794 - val_loss: 0.1607 - val_acc: 0.9666\n",
      "Epoch 22/40\n",
      "469/469 - 4s - loss: 0.0808 - acc: 0.9794 - val_loss: 0.1359 - val_acc: 0.9736\n",
      "Epoch 23/40\n",
      "469/469 - 4s - loss: 0.0830 - acc: 0.9799 - val_loss: 0.1388 - val_acc: 0.9751\n",
      "Epoch 24/40\n",
      "469/469 - 4s - loss: 0.0670 - acc: 0.9819 - val_loss: 0.1636 - val_acc: 0.9724\n",
      "Epoch 25/40\n",
      "469/469 - 4s - loss: 0.0796 - acc: 0.9812 - val_loss: 0.1667 - val_acc: 0.9729\n",
      "Epoch 26/40\n",
      "469/469 - 4s - loss: 0.0738 - acc: 0.9825 - val_loss: 0.1807 - val_acc: 0.9726\n",
      "Epoch 27/40\n",
      "469/469 - 4s - loss: 0.0732 - acc: 0.9826 - val_loss: 0.1541 - val_acc: 0.9738\n",
      "Epoch 28/40\n",
      "469/469 - 4s - loss: 0.0723 - acc: 0.9824 - val_loss: 0.1719 - val_acc: 0.9750\n",
      "Epoch 29/40\n",
      "469/469 - 4s - loss: 0.0690 - acc: 0.9837 - val_loss: 0.2018 - val_acc: 0.9693\n",
      "Epoch 30/40\n",
      "469/469 - 4s - loss: 0.0744 - acc: 0.9832 - val_loss: 0.1648 - val_acc: 0.9761\n",
      "Epoch 31/40\n",
      "469/469 - 4s - loss: 0.0627 - acc: 0.9850 - val_loss: 0.1885 - val_acc: 0.9726\n",
      "Epoch 32/40\n",
      "469/469 - 4s - loss: 0.0662 - acc: 0.9841 - val_loss: 0.1916 - val_acc: 0.9731\n",
      "Epoch 33/40\n",
      "469/469 - 4s - loss: 0.0605 - acc: 0.9856 - val_loss: 0.1837 - val_acc: 0.9749\n",
      "Epoch 34/40\n",
      "469/469 - 4s - loss: 0.0661 - acc: 0.9844 - val_loss: 0.1982 - val_acc: 0.9712\n",
      "Epoch 35/40\n",
      "469/469 - 4s - loss: 0.0676 - acc: 0.9840 - val_loss: 0.1798 - val_acc: 0.9726\n",
      "Epoch 36/40\n",
      "469/469 - 4s - loss: 0.0662 - acc: 0.9853 - val_loss: 0.1588 - val_acc: 0.9773\n",
      "Epoch 37/40\n",
      "469/469 - 4s - loss: 0.0548 - acc: 0.9870 - val_loss: 0.1761 - val_acc: 0.9765\n",
      "Epoch 38/40\n",
      "469/469 - 4s - loss: 0.0588 - acc: 0.9870 - val_loss: 0.2087 - val_acc: 0.9754\n",
      "Epoch 39/40\n",
      "469/469 - 4s - loss: 0.0619 - acc: 0.9857 - val_loss: 0.2055 - val_acc: 0.9774\n",
      "Epoch 40/40\n",
      "469/469 - 4s - loss: 0.0601 - acc: 0.9868 - val_loss: 0.1998 - val_acc: 0.9779\n"
     ]
    }
   ],
   "source": [
    "history = model.fit(X_train, y_train,  validation_data=(X_test, y_test), batch_size=128, epochs= 40, verbose=2)"
   ]
  },
  {
   "cell_type": "code",
   "execution_count": 35,
   "metadata": {},
   "outputs": [],
   "source": [
    "import matplotlib.pyplot as plt\n",
    "def show_acc(history):\n",
    "    acc = history.history['acc']\n",
    "    val_acc = history.history['val_acc']\n",
    "    loss = history.history['loss']\n",
    "    val_loss = history.history['val_loss']\n",
    "    print(\"Train accuracy :\", history.history['acc'][-1])\n",
    "    print(\"Test accuracy  :\", history.history['val_acc'][-1])\n",
    "    epochs = range(len(acc))\n",
    "\n",
    "    plt.plot(epochs, acc, 'b', label='Training acc')\n",
    "    plt.plot(epochs, val_acc, 'm', label='Testing acc')\n",
    "    plt.title('Training and testing accuracy')\n",
    "    plt.legend()\n",
    "\n",
    "    plt.figure()\n",
    "    \n",
    "    plt.plot(epochs, loss, 'b', label='Training loss')\n",
    "    plt.plot(epochs, val_loss, 'm', label='Testing loss')\n",
    "    plt.title('Training and test loss')\n",
    "    plt.legend()\n",
    "\n",
    "    plt.show()"
   ]
  },
  {
   "cell_type": "code",
   "execution_count": 40,
   "metadata": {
    "scrolled": false
   },
   "outputs": [
    {
     "name": "stdout",
     "output_type": "stream",
     "text": [
      "Train accuracy : 0.9868166446685791\n",
      "Test accuracy  : 0.9779000282287598\n"
     ]
    },
    {
     "data": {
      "image/png": "[encoded data removed]",
      "text/plain": [
       "<Figure size 432x288 with 1 Axes>"
      ]
     },
     "metadata": {
      "needs_background": "light"
     },
     "output_type": "display_data"
    },
    {
     "data": {
      "image/png": "[encoded data removed]",
      "text/plain": [
       "<Figure size 432x288 with 1 Axes>"
      ]
     },
     "metadata": {
      "needs_background": "light"
     },
     "output_type": "display_data"
    }
   ],
   "source": [
    "show_acc(history)"
   ]
  },
  {
   "cell_type": "code",
   "execution_count": 44,
   "metadata": {},
   "outputs": [],
   "source": [
    "predictions = model.predict(X_test)"
   ]
  },
  {
   "cell_type": "code",
   "execution_count": 45,
   "metadata": {},
   "outputs": [],
   "source": [
    "delta=0.1\n",
    "predicitions_modified=np.zeros(predictions.shape)\n",
    "for i in range(predictions.shape[0]):\n",
    "    for j in range (predictions.shape[1]):\n",
    "        if(predictions[i][j]>1-delta):\n",
    "            predicitions_modified[i][j]=1"
   ]
  },
  {
   "cell_type": "code",
   "execution_count": 46,
   "metadata": {},
   "outputs": [
    {
     "name": "stdout",
     "output_type": "stream",
     "text": [
      "9621  predictions were correct \n",
      "379  predictions were incorrect \n",
      "96.21\n"
     ]
    }
   ],
   "source": [
    "\n",
    "correct=0\n",
    "incorrect=0\n",
    "for i in range (len(predictions)):\n",
    "    if ((predicitions_modified[i]==y_test[i]).all()):\n",
    "        correct+=1\n",
    "    else:\n",
    "        incorrect+=1\n",
    "print(correct, \" predictions were correct \")\n",
    "print(incorrect, \" predictions were incorrect \")\n",
    "print(100*correct/(correct+incorrect))"
   ]
  },
  {
   "cell_type": "markdown",
   "metadata": {},
   "source": [
    "# Fourth model"
   ]
  },
  {
   "cell_type": "code",
   "execution_count": 68,
   "metadata": {},
   "outputs": [],
   "source": [
    "(X_train, y_train), (X_test, y_test) = mnist.load_data()"
   ]
  },
  {
   "cell_type": "code",
   "execution_count": 69,
   "metadata": {},
   "outputs": [],
   "source": [
    "X_train = X_train.reshape(60000, 784)\n",
    "X_test = X_test.reshape(10000, 784)"
   ]
  },
  {
   "cell_type": "code",
   "execution_count": 70,
   "metadata": {},
   "outputs": [],
   "source": [
    "y_train = np_utils.to_categorical(y_train, 10)\n",
    "y_test = np_utils.to_categorical(y_test, 10)"
   ]
  },
  {
   "cell_type": "code",
   "execution_count": 71,
   "metadata": {},
   "outputs": [],
   "source": [
    "model = Sequential()\n",
    "model.add(Dense(450, activation='tanh', input_shape=(28* 28, )))\n",
    "model.add(Dropout(0.1))\n",
    "model.add(Dense(350, activation='tanh'))\n",
    "model.add(Dropout(0.1))\n",
    "model.add(Dense(10, activation=\"softmax\"))\n",
    "\n",
    "model.compile(loss='categorical_crossentropy', metrics=['acc'], optimizer='adam')"
   ]
  },
  {
   "cell_type": "code",
   "execution_count": 72,
   "metadata": {},
   "outputs": [
    {
     "name": "stdout",
     "output_type": "stream",
     "text": [
      "Epoch 1/40\n",
      "469/469 - 7s - loss: 0.4303 - acc: 0.8639 - val_loss: 0.2822 - val_acc: 0.9131\n",
      "Epoch 2/40\n",
      "469/469 - 5s - loss: 0.3337 - acc: 0.8951 - val_loss: 0.2675 - val_acc: 0.9156\n",
      "Epoch 3/40\n",
      "469/469 - 4s - loss: 0.2983 - acc: 0.9065 - val_loss: 0.2495 - val_acc: 0.9235\n",
      "Epoch 4/40\n",
      "469/469 - 5s - loss: 0.2770 - acc: 0.9140 - val_loss: 0.2210 - val_acc: 0.9319\n",
      "Epoch 5/40\n",
      "469/469 - 5s - loss: 0.2486 - acc: 0.9205 - val_loss: 0.2011 - val_acc: 0.9387\n",
      "Epoch 6/40\n",
      "469/469 - 4s - loss: 0.2435 - acc: 0.9232 - val_loss: 0.1878 - val_acc: 0.9393\n",
      "Epoch 7/40\n",
      "469/469 - 4s - loss: 0.2281 - acc: 0.9267 - val_loss: 0.1788 - val_acc: 0.9457\n",
      "Epoch 8/40\n",
      "469/469 - 4s - loss: 0.2195 - acc: 0.9306 - val_loss: 0.1760 - val_acc: 0.9439\n",
      "Epoch 9/40\n",
      "469/469 - 4s - loss: 0.2212 - acc: 0.9295 - val_loss: 0.1688 - val_acc: 0.9451\n",
      "Epoch 10/40\n",
      "469/469 - 4s - loss: 0.2054 - acc: 0.9348 - val_loss: 0.1671 - val_acc: 0.9462\n",
      "Epoch 11/40\n",
      "469/469 - 5s - loss: 0.2143 - acc: 0.9313 - val_loss: 0.1706 - val_acc: 0.9444\n",
      "Epoch 12/40\n",
      "469/469 - 4s - loss: 0.2103 - acc: 0.9329 - val_loss: 0.1772 - val_acc: 0.9449\n",
      "Epoch 13/40\n",
      "469/469 - 4s - loss: 0.1940 - acc: 0.9375 - val_loss: 0.1630 - val_acc: 0.9481\n",
      "Epoch 14/40\n",
      "469/469 - 5s - loss: 0.1896 - acc: 0.9393 - val_loss: 0.1595 - val_acc: 0.9493\n",
      "Epoch 15/40\n",
      "469/469 - 4s - loss: 0.1908 - acc: 0.9387 - val_loss: 0.1429 - val_acc: 0.9565\n",
      "Epoch 16/40\n",
      "469/469 - 4s - loss: 0.1810 - acc: 0.9419 - val_loss: 0.1372 - val_acc: 0.9578\n",
      "Epoch 17/40\n",
      "469/469 - 5s - loss: 0.1763 - acc: 0.9431 - val_loss: 0.1388 - val_acc: 0.9575\n",
      "Epoch 18/40\n",
      "469/469 - 5s - loss: 0.1825 - acc: 0.9416 - val_loss: 0.1404 - val_acc: 0.9579\n",
      "Epoch 19/40\n",
      "469/469 - 5s - loss: 0.1797 - acc: 0.9421 - val_loss: 0.1360 - val_acc: 0.9582\n",
      "Epoch 20/40\n",
      "469/469 - 5s - loss: 0.1750 - acc: 0.9441 - val_loss: 0.1287 - val_acc: 0.9597\n",
      "Epoch 21/40\n",
      "469/469 - 5s - loss: 0.1684 - acc: 0.9460 - val_loss: 0.1265 - val_acc: 0.9595\n",
      "Epoch 22/40\n",
      "469/469 - 5s - loss: 0.1611 - acc: 0.9497 - val_loss: 0.1361 - val_acc: 0.9598\n",
      "Epoch 23/40\n",
      "469/469 - 5s - loss: 0.1600 - acc: 0.9481 - val_loss: 0.1339 - val_acc: 0.9585\n",
      "Epoch 24/40\n",
      "469/469 - 5s - loss: 0.1557 - acc: 0.9493 - val_loss: 0.1291 - val_acc: 0.9584\n",
      "Epoch 25/40\n",
      "469/469 - 4s - loss: 0.1562 - acc: 0.9501 - val_loss: 0.1258 - val_acc: 0.9587\n",
      "Epoch 26/40\n",
      "469/469 - 5s - loss: 0.1577 - acc: 0.9489 - val_loss: 0.1275 - val_acc: 0.9610\n",
      "Epoch 27/40\n",
      "469/469 - 4s - loss: 0.1562 - acc: 0.9499 - val_loss: 0.1216 - val_acc: 0.9619\n",
      "Epoch 28/40\n",
      "469/469 - 4s - loss: 0.1551 - acc: 0.9509 - val_loss: 0.1328 - val_acc: 0.9600\n",
      "Epoch 29/40\n",
      "469/469 - 4s - loss: 0.1530 - acc: 0.9509 - val_loss: 0.1246 - val_acc: 0.9601\n",
      "Epoch 30/40\n",
      "469/469 - 5s - loss: 0.1513 - acc: 0.9514 - val_loss: 0.1191 - val_acc: 0.9618\n",
      "Epoch 31/40\n",
      "469/469 - 5s - loss: 0.1467 - acc: 0.9530 - val_loss: 0.1236 - val_acc: 0.9621\n",
      "Epoch 32/40\n",
      "469/469 - 4s - loss: 0.1484 - acc: 0.9522 - val_loss: 0.1196 - val_acc: 0.9635\n",
      "Epoch 33/40\n",
      "469/469 - 4s - loss: 0.1484 - acc: 0.9531 - val_loss: 0.1188 - val_acc: 0.9625\n",
      "Epoch 34/40\n",
      "469/469 - 4s - loss: 0.1489 - acc: 0.9526 - val_loss: 0.1282 - val_acc: 0.9575\n",
      "Epoch 35/40\n",
      "469/469 - 4s - loss: 0.1488 - acc: 0.9533 - val_loss: 0.1198 - val_acc: 0.9631\n",
      "Epoch 36/40\n",
      "469/469 - 4s - loss: 0.1449 - acc: 0.9522 - val_loss: 0.1234 - val_acc: 0.9608\n",
      "Epoch 37/40\n",
      "469/469 - 4s - loss: 0.1464 - acc: 0.9527 - val_loss: 0.1256 - val_acc: 0.9615\n",
      "Epoch 38/40\n",
      "469/469 - 4s - loss: 0.1479 - acc: 0.9531 - val_loss: 0.1344 - val_acc: 0.9592\n",
      "Epoch 39/40\n",
      "469/469 - 5s - loss: 0.1424 - acc: 0.9551 - val_loss: 0.1145 - val_acc: 0.9648\n",
      "Epoch 40/40\n",
      "469/469 - 5s - loss: 0.1464 - acc: 0.9530 - val_loss: 0.1103 - val_acc: 0.9660\n"
     ]
    }
   ],
   "source": [
    "history = model.fit(X_train, y_train,  validation_data=(X_test, y_test), batch_size=128, epochs= 40, verbose=2)"
   ]
  },
  {
   "cell_type": "code",
   "execution_count": 73,
   "metadata": {},
   "outputs": [],
   "source": [
    "import matplotlib.pyplot as plt\n",
    "def show_acc(history):\n",
    "    acc = history.history['acc']\n",
    "    val_acc = history.history['val_acc']\n",
    "    loss = history.history['loss']\n",
    "    val_loss = history.history['val_loss']\n",
    "    print(\"Train accuracy :\", history.history['acc'][-1])\n",
    "    print(\"Test accuracy  :\", history.history['val_acc'][-1])\n",
    "    epochs = range(len(acc))\n",
    "\n",
    "    plt.plot(epochs, acc, 'b', label='Training acc')\n",
    "    plt.plot(epochs, val_acc, 'm', label='Testing acc')\n",
    "    plt.title('Training and testing accuracy')\n",
    "    plt.legend()\n",
    "\n",
    "    plt.figure()\n",
    "    \n",
    "    plt.plot(epochs, loss, 'b', label='Training loss')\n",
    "    plt.plot(epochs, val_loss, 'm', label='Testing loss')\n",
    "    plt.title('Training and test loss')\n",
    "    plt.legend()\n",
    "\n",
    "    plt.show()"
   ]
  },
  {
   "cell_type": "code",
   "execution_count": 74,
   "metadata": {
    "scrolled": true
   },
   "outputs": [
    {
     "name": "stdout",
     "output_type": "stream",
     "text": [
      "Train accuracy : 0.9530166387557983\n",
      "Test accuracy  : 0.9660000205039978\n"
     ]
    },
    {
     "data": {
      "image/png": "[encoded data removed]",
      "text/plain": [
       "<Figure size 432x288 with 1 Axes>"
      ]
     },
     "metadata": {
      "needs_background": "light"
     },
     "output_type": "display_data"
    },
    {
     "data": {
      "image/png": "[encoded data removed]",
      "text/plain": [
       "<Figure size 432x288 with 1 Axes>"
      ]
     },
     "metadata": {
      "needs_background": "light"
     },
     "output_type": "display_data"
    }
   ],
   "source": [
    "show_acc(history)"
   ]
  },
  {
   "cell_type": "code",
   "execution_count": 54,
   "metadata": {},
   "outputs": [],
   "source": [
    "predictions = model.predict(X_test)"
   ]
  },
  {
   "cell_type": "code",
   "execution_count": 55,
   "metadata": {},
   "outputs": [],
   "source": [
    "delta=0.1\n",
    "predicitions_modified=np.zeros(predictions.shape)\n",
    "for i in range(predictions.shape[0]):\n",
    "    for j in range (predictions.shape[1]):\n",
    "        if(predictions[i][j]>1-delta):\n",
    "            predicitions_modified[i][j]=1"
   ]
  },
  {
   "cell_type": "code",
   "execution_count": 56,
   "metadata": {},
   "outputs": [
    {
     "name": "stdout",
     "output_type": "stream",
     "text": [
      "8972  predictions were correct \n",
      "1028  predictions were incorrect \n",
      "89.72\n"
     ]
    }
   ],
   "source": [
    "correct=0\n",
    "incorrect=0\n",
    "for i in range (len(predictions)):\n",
    "    if ((predicitions_modified[i]==y_test[i]).all()):\n",
    "        correct+=1\n",
    "    else:\n",
    "        incorrect+=1\n",
    "print(correct, \" predictions were correct \")\n",
    "print(incorrect, \" predictions were incorrect \")\n",
    "print(100*correct/(correct+incorrect))"
   ]
  },
  {
   "cell_type": "markdown",
   "metadata": {},
   "source": [
    "# Fifth model"
   ]
  },
  {
   "cell_type": "code",
   "execution_count": 57,
   "metadata": {},
   "outputs": [],
   "source": [
    "(X_train, y_train), (X_test, y_test) = mnist.load_data()"
   ]
  },
  {
   "cell_type": "code",
   "execution_count": 58,
   "metadata": {},
   "outputs": [],
   "source": [
    "X_train = X_train.reshape(60000, 784)\n",
    "X_test = X_test.reshape(10000, 784)"
   ]
  },
  {
   "cell_type": "code",
   "execution_count": 59,
   "metadata": {},
   "outputs": [],
   "source": [
    "y_train = np_utils.to_categorical(y_train, 10)\n",
    "y_test = np_utils.to_categorical(y_test, 10)"
   ]
  },
  {
   "cell_type": "code",
   "execution_count": 60,
   "metadata": {},
   "outputs": [],
   "source": [
    "model = Sequential()\n",
    "model.add(Dense(500, activation='relu', input_shape=(28* 28, )))\n",
    "model.add(Dropout(0.1))\n",
    "model.add(Dense(400, activation='relu'))\n",
    "model.add(Dropout(0.1))\n",
    "model.add(Dense(250, activation='relu'))\n",
    "model.add(Dropout(0.1))\n",
    "model.add(Dense(10, activation=\"softmax\"))\n",
    "\n",
    "model.compile(loss='categorical_crossentropy', metrics=['acc'], optimizer='adam')"
   ]
  },
  {
   "cell_type": "code",
   "execution_count": 61,
   "metadata": {},
   "outputs": [
    {
     "name": "stdout",
     "output_type": "stream",
     "text": [
      "Epoch 1/40\n",
      "469/469 - 8s - loss: 2.1839 - acc: 0.8531 - val_loss: 0.2325 - val_acc: 0.9366\n",
      "Epoch 2/40\n",
      "469/469 - 6s - loss: 0.2701 - acc: 0.9274 - val_loss: 0.1600 - val_acc: 0.9533\n",
      "Epoch 3/40\n",
      "469/469 - 6s - loss: 0.1850 - acc: 0.9471 - val_loss: 0.1411 - val_acc: 0.9611\n",
      "Epoch 4/40\n",
      "469/469 - 6s - loss: 0.1419 - acc: 0.9582 - val_loss: 0.1272 - val_acc: 0.9657\n",
      "Epoch 5/40\n",
      "469/469 - 5s - loss: 0.1309 - acc: 0.9613 - val_loss: 0.1240 - val_acc: 0.9664\n",
      "Epoch 6/40\n",
      "469/469 - 5s - loss: 0.1164 - acc: 0.9658 - val_loss: 0.1134 - val_acc: 0.9704\n",
      "Epoch 7/40\n",
      "469/469 - 5s - loss: 0.1050 - acc: 0.9694 - val_loss: 0.1111 - val_acc: 0.9685\n",
      "Epoch 8/40\n",
      "469/469 - 5s - loss: 0.0958 - acc: 0.9717 - val_loss: 0.1099 - val_acc: 0.9699\n",
      "Epoch 9/40\n",
      "469/469 - 5s - loss: 0.0992 - acc: 0.9709 - val_loss: 0.1174 - val_acc: 0.9696\n",
      "Epoch 10/40\n",
      "469/469 - 5s - loss: 0.0955 - acc: 0.9730 - val_loss: 0.1075 - val_acc: 0.9704\n",
      "Epoch 11/40\n",
      "469/469 - 5s - loss: 0.0858 - acc: 0.9751 - val_loss: 0.1216 - val_acc: 0.9709\n",
      "Epoch 12/40\n",
      "469/469 - 5s - loss: 0.0827 - acc: 0.9764 - val_loss: 0.1293 - val_acc: 0.9689\n",
      "Epoch 13/40\n",
      "469/469 - 5s - loss: 0.0823 - acc: 0.9771 - val_loss: 0.0917 - val_acc: 0.9761\n",
      "Epoch 14/40\n",
      "469/469 - 5s - loss: 0.0773 - acc: 0.9782 - val_loss: 0.1156 - val_acc: 0.9734\n",
      "Epoch 15/40\n",
      "469/469 - 5s - loss: 0.0801 - acc: 0.9773 - val_loss: 0.1115 - val_acc: 0.9761\n",
      "Epoch 16/40\n",
      "469/469 - 5s - loss: 0.0784 - acc: 0.9780 - val_loss: 0.1136 - val_acc: 0.9711\n",
      "Epoch 17/40\n",
      "469/469 - 5s - loss: 0.0664 - acc: 0.9818 - val_loss: 0.1042 - val_acc: 0.9774\n",
      "Epoch 18/40\n",
      "469/469 - 5s - loss: 0.0624 - acc: 0.9832 - val_loss: 0.1234 - val_acc: 0.9714\n",
      "Epoch 19/40\n",
      "469/469 - 6s - loss: 0.0787 - acc: 0.9804 - val_loss: 0.1195 - val_acc: 0.9763\n",
      "Epoch 20/40\n",
      "469/469 - 6s - loss: 0.0659 - acc: 0.9818 - val_loss: 0.1130 - val_acc: 0.9771\n",
      "Epoch 21/40\n",
      "469/469 - 6s - loss: 0.0670 - acc: 0.9820 - val_loss: 0.1064 - val_acc: 0.9781\n",
      "Epoch 22/40\n",
      "469/469 - 6s - loss: 0.0580 - acc: 0.9843 - val_loss: 0.1152 - val_acc: 0.9767\n",
      "Epoch 23/40\n",
      "469/469 - 6s - loss: 0.0557 - acc: 0.9855 - val_loss: 0.1211 - val_acc: 0.9769\n",
      "Epoch 24/40\n",
      "469/469 - 6s - loss: 0.0603 - acc: 0.9850 - val_loss: 0.1243 - val_acc: 0.9739\n",
      "Epoch 25/40\n",
      "469/469 - 5s - loss: 0.0538 - acc: 0.9863 - val_loss: 0.1021 - val_acc: 0.9775\n",
      "Epoch 26/40\n",
      "469/469 - 5s - loss: 0.0555 - acc: 0.9865 - val_loss: 0.1321 - val_acc: 0.9763\n",
      "Epoch 27/40\n",
      "469/469 - 5s - loss: 0.0519 - acc: 0.9869 - val_loss: 0.1127 - val_acc: 0.9800\n",
      "Epoch 28/40\n",
      "469/469 - 5s - loss: 0.0559 - acc: 0.9864 - val_loss: 0.1161 - val_acc: 0.9782\n",
      "Epoch 29/40\n",
      "469/469 - 6s - loss: 0.0514 - acc: 0.9872 - val_loss: 0.1276 - val_acc: 0.9792\n",
      "Epoch 30/40\n",
      "469/469 - 6s - loss: 0.0507 - acc: 0.9874 - val_loss: 0.1233 - val_acc: 0.9808\n",
      "Epoch 31/40\n",
      "469/469 - 6s - loss: 0.0425 - acc: 0.9892 - val_loss: 0.1236 - val_acc: 0.9812\n",
      "Epoch 32/40\n",
      "469/469 - 5s - loss: 0.0534 - acc: 0.9876 - val_loss: 0.1055 - val_acc: 0.9789\n",
      "Epoch 33/40\n",
      "469/469 - 5s - loss: 0.0489 - acc: 0.9881 - val_loss: 0.1497 - val_acc: 0.9781\n",
      "Epoch 34/40\n",
      "469/469 - 5s - loss: 0.0406 - acc: 0.9899 - val_loss: 0.1235 - val_acc: 0.9828\n",
      "Epoch 35/40\n",
      "469/469 - 6s - loss: 0.0406 - acc: 0.9903 - val_loss: 0.1200 - val_acc: 0.9808\n",
      "Epoch 36/40\n",
      "469/469 - 5s - loss: 0.0502 - acc: 0.9887 - val_loss: 0.1467 - val_acc: 0.9768\n",
      "Epoch 37/40\n",
      "469/469 - 5s - loss: 0.0422 - acc: 0.9902 - val_loss: 0.1535 - val_acc: 0.9805\n",
      "Epoch 38/40\n",
      "469/469 - 6s - loss: 0.0429 - acc: 0.9901 - val_loss: 0.1563 - val_acc: 0.9786\n",
      "Epoch 39/40\n",
      "469/469 - 5s - loss: 0.0441 - acc: 0.9901 - val_loss: 0.1506 - val_acc: 0.9801\n",
      "Epoch 40/40\n",
      "469/469 - 5s - loss: 0.0425 - acc: 0.9903 - val_loss: 0.1399 - val_acc: 0.9801\n"
     ]
    }
   ],
   "source": [
    "history = model.fit(X_train, y_train,  validation_data=(X_test, y_test), batch_size=128, epochs= 40, verbose=2)"
   ]
  },
  {
   "cell_type": "code",
   "execution_count": 62,
   "metadata": {},
   "outputs": [],
   "source": [
    "import matplotlib.pyplot as plt\n",
    "def show_acc(history):\n",
    "    acc = history.history['acc']\n",
    "    val_acc = history.history['val_acc']\n",
    "    loss = history.history['loss']\n",
    "    val_loss = history.history['val_loss']\n",
    "    print(\"Train accuracy :\", history.history['acc'][-1])\n",
    "    print(\"Test accuracy  :\", history.history['val_acc'][-1])\n",
    "    epochs = range(len(acc))\n",
    "\n",
    "    plt.plot(epochs, acc, 'b', label='Training acc')\n",
    "    plt.plot(epochs, val_acc, 'm', label='Testing acc')\n",
    "    plt.title('Training and testing accuracy')\n",
    "    plt.legend()\n",
    "\n",
    "    plt.figure()\n",
    "    \n",
    "    plt.plot(epochs, loss, 'b', label='Training loss')\n",
    "    plt.plot(epochs, val_loss, 'm', label='Testing loss')\n",
    "    plt.title('Training and test loss')\n",
    "    plt.legend()\n",
    "\n",
    "    plt.show()"
   ]
  },
  {
   "cell_type": "code",
   "execution_count": 63,
   "metadata": {
    "scrolled": true
   },
   "outputs": [
    {
     "name": "stdout",
     "output_type": "stream",
     "text": [
      "Train accuracy : 0.9902999997138977\n",
      "Test accuracy  : 0.9800999760627747\n"
     ]
    },
    {
     "data": {
      "image/png": "[encoded data removed]",
      "text/plain": [
       "<Figure size 432x288 with 1 Axes>"
      ]
     },
     "metadata": {
      "needs_background": "light"
     },
     "output_type": "display_data"
    },
    {
     "data": {
      "image/png": "[encoded data removed]",
      "text/plain": [
       "<Figure size 432x288 with 1 Axes>"
      ]
     },
     "metadata": {
      "needs_background": "light"
     },
     "output_type": "display_data"
    }
   ],
   "source": [
    "show_acc(history)"
   ]
  },
  {
   "cell_type": "code",
   "execution_count": 64,
   "metadata": {},
   "outputs": [],
   "source": [
    "predictions = model.predict(X_test)"
   ]
  },
  {
   "cell_type": "code",
   "execution_count": 65,
   "metadata": {},
   "outputs": [],
   "source": [
    "delta=0.1\n",
    "predicitions_modified=np.zeros(predictions.shape)\n",
    "for i in range(predictions.shape[0]):\n",
    "    for j in range (predictions.shape[1]):\n",
    "        if(predictions[i][j]>1-delta):\n",
    "            predicitions_modified[i][j]=1"
   ]
  },
  {
   "cell_type": "code",
   "execution_count": 66,
   "metadata": {},
   "outputs": [
    {
     "name": "stdout",
     "output_type": "stream",
     "text": [
      "9630  predictions were correct \n",
      "370  predictions were incorrect \n",
      "96.3\n"
     ]
    }
   ],
   "source": [
    "#correct_predictions=np.nonzero(predictions==y_test)[0]\n",
    "#incorrect_predictions=np.nonzero(predictions!=y_test)[0]\n",
    "correct=0\n",
    "incorrect=0\n",
    "for i in range (len(predictions)):\n",
    "    if ((predicitions_modified[i]==y_test[i]).all()):\n",
    "        correct+=1\n",
    "    else:\n",
    "        incorrect+=1\n",
    "print(correct, \" predictions were correct \")\n",
    "print(incorrect, \" predictions were incorrect \")\n",
    "print(100*correct/(correct+incorrect))"
   ]
  },
  {
   "cell_type": "markdown",
   "metadata": {},
   "source": [
    "# Six model"
   ]
  },
  {
   "cell_type": "code",
   "execution_count": 75,
   "metadata": {},
   "outputs": [],
   "source": [
    "(X_train, y_train), (X_test, y_test) = mnist.load_data()"
   ]
  },
  {
   "cell_type": "code",
   "execution_count": 76,
   "metadata": {},
   "outputs": [],
   "source": [
    "X_train = X_train.reshape((60000, 28, 28, 1))\n",
    "X_test  =  X_test.reshape((10000, 28, 28, 1))\n",
    "\n",
    "y_train = np_utils.to_categorical(y_train)\n",
    "y_test  = np_utils.to_categorical(y_test)"
   ]
  },
  {
   "cell_type": "code",
   "execution_count": 77,
   "metadata": {},
   "outputs": [],
   "source": [
    "model = Sequential()\n",
    "model.add( layers.Conv2D(32, (3, 3), activation='relu', input_shape=(28, 28, 1)) )\n",
    "model.add( layers.MaxPooling2D((2, 2)) )\n",
    "model.add( layers.Conv2D(64, (3, 3), activation='relu') )\n",
    "model.add( layers.MaxPooling2D((2, 2)) )\n",
    "model.add( layers.Conv2D(64, (3, 3), activation='relu') )\n",
    "model.add(layers.Flatten())\n",
    "model.add(layers.Dense(64, activation='relu'))\n",
    "model.add(layers.Dense(10, activation='softmax'))\n",
    "\n",
    "\n",
    "model.compile(loss='categorical_crossentropy', metrics=['acc'], optimizer='adam')"
   ]
  },
  {
   "cell_type": "code",
   "execution_count": 78,
   "metadata": {},
   "outputs": [
    {
     "name": "stdout",
     "output_type": "stream",
     "text": [
      "Epoch 1/10\n",
      "938/938 - 31s - loss: 0.3302 - acc: 0.9343 - val_loss: 0.0933 - val_acc: 0.9736\n",
      "Epoch 2/10\n",
      "938/938 - 32s - loss: 0.0631 - acc: 0.9815 - val_loss: 0.0801 - val_acc: 0.9755\n",
      "Epoch 3/10\n",
      "938/938 - 32s - loss: 0.0459 - acc: 0.9859 - val_loss: 0.0479 - val_acc: 0.9841\n",
      "Epoch 4/10\n",
      "938/938 - 34s - loss: 0.0395 - acc: 0.9880 - val_loss: 0.0465 - val_acc: 0.9850\n",
      "Epoch 5/10\n",
      "938/938 - 30s - loss: 0.0330 - acc: 0.9892 - val_loss: 0.0502 - val_acc: 0.9842\n",
      "Epoch 6/10\n",
      "938/938 - 30s - loss: 0.0312 - acc: 0.9898 - val_loss: 0.0536 - val_acc: 0.9855\n",
      "Epoch 7/10\n",
      "938/938 - 30s - loss: 0.0278 - acc: 0.9914 - val_loss: 0.0458 - val_acc: 0.9875\n",
      "Epoch 8/10\n",
      "938/938 - 29s - loss: 0.0264 - acc: 0.9915 - val_loss: 0.0582 - val_acc: 0.9849\n",
      "Epoch 9/10\n",
      "938/938 - 29s - loss: 0.0216 - acc: 0.9931 - val_loss: 0.0577 - val_acc: 0.9853\n",
      "Epoch 10/10\n",
      "938/938 - 28s - loss: 0.0209 - acc: 0.9934 - val_loss: 0.0479 - val_acc: 0.9874\n"
     ]
    }
   ],
   "source": [
    "history = model.fit(X_train, y_train,  validation_data=(X_test, y_test), batch_size=64, epochs= 10, verbose=2)"
   ]
  },
  {
   "cell_type": "code",
   "execution_count": 79,
   "metadata": {},
   "outputs": [
    {
     "name": "stdout",
     "output_type": "stream",
     "text": [
      "Train accuracy : 0.993399977684021\n",
      "Test accuracy  : 0.9873999953269958\n"
     ]
    },
    {
     "data": {
      "image/png": "[encoded data removed]",
      "text/plain": [
       "<Figure size 432x288 with 1 Axes>"
      ]
     },
     "metadata": {
      "needs_background": "light"
     },
     "output_type": "display_data"
    },
    {
     "data": {
      "image/png": "[encoded data removed]",
      "text/plain": [
       "<Figure size 432x288 with 1 Axes>"
      ]
     },
     "metadata": {
      "needs_background": "light"
     },
     "output_type": "display_data"
    }
   ],
   "source": [
    "show_acc(history)"
   ]
  },
  {
   "cell_type": "code",
   "execution_count": 80,
   "metadata": {},
   "outputs": [],
   "source": [
    "predictions = model.predict(X_test)"
   ]
  },
  {
   "cell_type": "code",
   "execution_count": 81,
   "metadata": {},
   "outputs": [],
   "source": [
    "delta=0.1\n",
    "predicitions_modified=np.zeros(predictions.shape)\n",
    "for i in range(predictions.shape[0]):\n",
    "    for j in range (predictions.shape[1]):\n",
    "        if(predictions[i][j]>1-delta):\n",
    "            predicitions_modified[i][j]=1"
   ]
  },
  {
   "cell_type": "code",
   "execution_count": 82,
   "metadata": {},
   "outputs": [
    {
     "name": "stdout",
     "output_type": "stream",
     "text": [
      "9792  predictions were correct \n",
      "208  predictions were incorrect \n",
      "97.92\n"
     ]
    }
   ],
   "source": [
    "correct=0\n",
    "incorrect=0\n",
    "for i in range (len(predictions)):\n",
    "    if ((predicitions_modified[i]==y_test[i]).all()):\n",
    "        correct+=1\n",
    "    else:\n",
    "        incorrect+=1\n",
    "print(correct, \" predictions were correct \")\n",
    "print(incorrect, \" predictions were incorrect \")\n",
    "print(100*correct/(correct+incorrect))"
   ]
  },
  {
   "cell_type": "code",
   "execution_count": 83,
   "metadata": {
    "scrolled": true
   },
   "outputs": [
    {
     "name": "stdout",
     "output_type": "stream",
     "text": [
      "313/313 [==============================] - 2s 6ms/step - loss: 0.0479 - acc: 0.9874\n"
     ]
    },
    {
     "data": {
      "text/plain": [
       "[0.04789121076464653, 0.9873999953269958]"
      ]
     },
     "execution_count": 83,
     "metadata": {},
     "output_type": "execute_result"
    }
   ],
   "source": [
    "model.evaluate(X_test,y_test)"
   ]
  },
  {
   "cell_type": "markdown",
   "metadata": {},
   "source": [
    "# Using another dataset"
   ]
  },
  {
   "cell_type": "code",
   "execution_count": 6,
   "metadata": {},
   "outputs": [],
   "source": [
    "import pandas as pd"
   ]
  },
  {
   "cell_type": "code",
   "execution_count": 8,
   "metadata": {},
   "outputs": [],
   "source": [
    "melset= pd.read_csv(\"kmnist_classmap.csv\")"
   ]
  },
  {
   "cell_type": "code",
   "execution_count": 9,
   "metadata": {},
   "outputs": [
    {
     "data": {
      "text/plain": [
       "<bound method NDFrame.head of    index codepoint char\n",
       "0      0    U+304A    お\n",
       "1      1    U+304D    き\n",
       "2      2    U+3059    す\n",
       "3      3    U+3064    つ\n",
       "4      4    U+306A    な\n",
       "5      5    U+306F    は\n",
       "6      6    U+307E    ま\n",
       "7      7    U+3084    や\n",
       "8      8    U+308C    れ\n",
       "9      9    U+3092    を>"
      ]
     },
     "execution_count": 9,
     "metadata": {},
     "output_type": "execute_result"
    }
   ],
   "source": [
    "melset.head"
   ]
  },
  {
   "cell_type": "code",
   "execution_count": 10,
   "metadata": {},
   "outputs": [],
   "source": [
    "X_train = np.load('kmnist-train-imgs.npz')['arr_0']\n",
    "y_train= np.load('kmnist-train-labels.npz')['arr_0']\n",
    "\n",
    "X_test= np.load('kmnist-test-imgs.npz')['arr_0']\n",
    "y_test= np.load('kmnist-test-labels.npz')['arr_0']"
   ]
  },
  {
   "cell_type": "code",
   "execution_count": 11,
   "metadata": {},
   "outputs": [
    {
     "name": "stdout",
     "output_type": "stream",
     "text": [
      "Shapes of X_train is (60000, 28, 28)\n",
      "Shapes of y_train is (60000,)\n",
      "Shapes of X_test.shape is (10000, 28, 28)\n",
      "Shapes of y_test is (10000,)\n"
     ]
    }
   ],
   "source": [
    "print(\"Shapes of X_train is\", X_train.shape)\n",
    "print(\"Shapes of y_train is\", y_train.shape)\n",
    "\n",
    "print(\"Shapes of X_test.shape is\", X_test.shape)\n",
    "print(\"Shapes of y_test is\", y_test.shape)"
   ]
  },
  {
   "cell_type": "code",
   "execution_count": 53,
   "metadata": {},
   "outputs": [
    {
     "name": "stdout",
     "output_type": "stream",
     "text": [
      "X_train is between  0  and  255  // type :  uint8\n",
      "y_train is between  0  and  9  // type :  uint8\n"
     ]
    }
   ],
   "source": [
    "print(\"X_train is between \", X_train.min(),\" and \",X_train.max(), \" // type : \", X_train.dtype)\n",
    "print(\"y_train is between \", y_train.min(),\" and \",y_train.max(), \" // type : \", y_train.dtype)"
   ]
  },
  {
   "cell_type": "code",
   "execution_count": 54,
   "metadata": {},
   "outputs": [
    {
     "data": {
      "image/png": "[encoded data removed]",
      "text/plain": [
       "<Figure size 432x288 with 10 Axes>"
      ]
     },
     "metadata": {},
     "output_type": "display_data"
    }
   ],
   "source": [
    "for i in range(10):\n",
    "    plt.subplot(3, 5, i+1)\n",
    "    plt.tight_layout()\n",
    "    plt.imshow(X_train[i], cmap='gray', interpolation='none')\n",
    "    plt.title(\"Character: {}\".format(y_train[i]))\n",
    "    plt.xticks([])\n",
    "    plt.yticks([])"
   ]
  },
  {
   "cell_type": "code",
   "execution_count": 59,
   "metadata": {},
   "outputs": [
    {
     "name": "stdout",
     "output_type": "stream",
     "text": [
      "[6000. 6000. 6000. 6000. 6000. 6000. 6000. 6000. 6000. 6000.]\n",
      "[1000. 1000. 1000. 1000. 1000. 1000. 1000. 1000. 1000. 1000.]\n"
     ]
    }
   ],
   "source": [
    "#number of each character in the train set\n",
    "tempo=y_train.tolist()\n",
    "counter_train=np.zeros((10))\n",
    "for i in range (10):\n",
    "    counter_train[i]=tempo.count(i)\n",
    "\n",
    "print(counter_train)\n",
    "\n",
    "#number of each character in the test set\n",
    "tempo=y_test.tolist()\n",
    "counter_test=np.zeros((10))\n",
    "for i in range (10):\n",
    "    counter_test[i]=tempo.count(i)\n",
    "\n",
    "print(counter_test)"
   ]
  },
  {
   "cell_type": "markdown",
   "metadata": {},
   "source": [
    "# First model"
   ]
  },
  {
   "cell_type": "code",
   "execution_count": 65,
   "metadata": {},
   "outputs": [],
   "source": [
    "X_train = X_train.reshape(60000, 784)\n",
    "X_test = X_test.reshape(10000, 784)\n",
    "y_train = np_utils.to_categorical(y_train, 10)\n",
    "y_test = np_utils.to_categorical(y_test, 10)"
   ]
  },
  {
   "cell_type": "code",
   "execution_count": 66,
   "metadata": {},
   "outputs": [],
   "source": [
    "model = Sequential()\n",
    "model.add(Dense(512, activation='relu', input_shape=(28* 28, )))\n",
    "model.add(Dropout(0.2))\n",
    "model.add(Dense(512, activation='relu'))\n",
    "model.add(Dropout(0.2))\n",
    "model.add(Dense(10, activation=\"softmax\"))\n",
    "\n",
    "model.compile(loss='categorical_crossentropy', metrics=['acc'], optimizer='adam')"
   ]
  },
  {
   "cell_type": "code",
   "execution_count": 67,
   "metadata": {},
   "outputs": [
    {
     "name": "stdout",
     "output_type": "stream",
     "text": [
      "Epoch 1/40\n",
      "469/469 - 23s - loss: 4.7229 - acc: 0.7400 - val_loss: 1.3355 - val_acc: 0.7038\n",
      "Epoch 2/40\n",
      "469/469 - 5s - loss: 0.8291 - acc: 0.8142 - val_loss: 1.0818 - val_acc: 0.7295\n",
      "Epoch 3/40\n",
      "469/469 - 6s - loss: 0.6084 - acc: 0.8543 - val_loss: 1.0019 - val_acc: 0.7556\n",
      "Epoch 4/40\n",
      "469/469 - 5s - loss: 0.5031 - acc: 0.8785 - val_loss: 0.8872 - val_acc: 0.7791\n",
      "Epoch 5/40\n",
      "469/469 - 6s - loss: 0.4447 - acc: 0.8912 - val_loss: 0.8933 - val_acc: 0.7851\n",
      "Epoch 6/40\n",
      "469/469 - 7s - loss: 0.3871 - acc: 0.9023 - val_loss: 0.8412 - val_acc: 0.7959\n",
      "Epoch 7/40\n",
      "469/469 - 6s - loss: 0.3428 - acc: 0.9094 - val_loss: 0.7126 - val_acc: 0.8104\n",
      "Epoch 8/40\n",
      "469/469 - 5s - loss: 0.2921 - acc: 0.9222 - val_loss: 0.6209 - val_acc: 0.8455\n",
      "Epoch 9/40\n",
      "469/469 - 5s - loss: 0.2622 - acc: 0.9282 - val_loss: 0.6340 - val_acc: 0.8424\n",
      "Epoch 10/40\n",
      "469/469 - 5s - loss: 0.2432 - acc: 0.9342 - val_loss: 0.5906 - val_acc: 0.8501\n",
      "Epoch 11/40\n",
      "469/469 - 5s - loss: 0.2347 - acc: 0.9361 - val_loss: 0.5446 - val_acc: 0.8641\n",
      "Epoch 12/40\n",
      "469/469 - 5s - loss: 0.2220 - acc: 0.9398 - val_loss: 0.5324 - val_acc: 0.8744\n",
      "Epoch 13/40\n",
      "469/469 - 5s - loss: 0.2202 - acc: 0.9405 - val_loss: 0.5091 - val_acc: 0.8735\n",
      "Epoch 14/40\n",
      "469/469 - 5s - loss: 0.2145 - acc: 0.9427 - val_loss: 0.5018 - val_acc: 0.8798\n",
      "Epoch 15/40\n",
      "469/469 - 5s - loss: 0.2101 - acc: 0.9442 - val_loss: 0.5113 - val_acc: 0.8790\n",
      "Epoch 16/40\n",
      "469/469 - 5s - loss: 0.1974 - acc: 0.9474 - val_loss: 0.4960 - val_acc: 0.8833\n",
      "Epoch 17/40\n",
      "469/469 - 5s - loss: 0.1982 - acc: 0.9467 - val_loss: 0.5428 - val_acc: 0.8635\n",
      "Epoch 18/40\n",
      "469/469 - 5s - loss: 0.1908 - acc: 0.9498 - val_loss: 0.5583 - val_acc: 0.8782\n",
      "Epoch 19/40\n",
      "469/469 - 5s - loss: 0.1900 - acc: 0.9500 - val_loss: 0.5507 - val_acc: 0.8740\n",
      "Epoch 20/40\n",
      "469/469 - 5s - loss: 0.1870 - acc: 0.9515 - val_loss: 0.5092 - val_acc: 0.8816\n",
      "Epoch 21/40\n",
      "469/469 - 5s - loss: 0.1831 - acc: 0.9532 - val_loss: 0.4876 - val_acc: 0.8847\n",
      "Epoch 22/40\n",
      "469/469 - 5s - loss: 0.1767 - acc: 0.9547 - val_loss: 0.4903 - val_acc: 0.8893\n",
      "Epoch 23/40\n",
      "469/469 - 5s - loss: 0.1684 - acc: 0.9562 - val_loss: 0.5154 - val_acc: 0.8860\n",
      "Epoch 24/40\n",
      "469/469 - 6s - loss: 0.1699 - acc: 0.9571 - val_loss: 0.5349 - val_acc: 0.8874\n",
      "Epoch 25/40\n",
      "469/469 - 6s - loss: 0.1518 - acc: 0.9605 - val_loss: 0.5845 - val_acc: 0.8763\n",
      "Epoch 26/40\n",
      "469/469 - 6s - loss: 0.1657 - acc: 0.9579 - val_loss: 0.5579 - val_acc: 0.8892\n",
      "Epoch 27/40\n",
      "469/469 - 6s - loss: 0.1582 - acc: 0.9594 - val_loss: 0.5555 - val_acc: 0.8824\n",
      "Epoch 28/40\n",
      "469/469 - 6s - loss: 0.1628 - acc: 0.9594 - val_loss: 0.6277 - val_acc: 0.8850\n",
      "Epoch 29/40\n",
      "469/469 - 6s - loss: 0.1519 - acc: 0.9625 - val_loss: 0.6211 - val_acc: 0.8830\n",
      "Epoch 30/40\n",
      "469/469 - 7s - loss: 0.1643 - acc: 0.9612 - val_loss: 0.5614 - val_acc: 0.8879\n",
      "Epoch 31/40\n",
      "469/469 - 6s - loss: 0.1591 - acc: 0.9619 - val_loss: 0.5980 - val_acc: 0.8869\n",
      "Epoch 32/40\n",
      "469/469 - 7s - loss: 0.1348 - acc: 0.9653 - val_loss: 0.6288 - val_acc: 0.8933\n",
      "Epoch 33/40\n",
      "469/469 - 7s - loss: 0.1400 - acc: 0.9660 - val_loss: 0.5930 - val_acc: 0.8933\n",
      "Epoch 34/40\n",
      "469/469 - 6s - loss: 0.1431 - acc: 0.9654 - val_loss: 0.6267 - val_acc: 0.8891\n",
      "Epoch 35/40\n",
      "469/469 - 7s - loss: 0.1498 - acc: 0.9645 - val_loss: 0.6121 - val_acc: 0.8885\n",
      "Epoch 36/40\n",
      "469/469 - 7s - loss: 0.1283 - acc: 0.9668 - val_loss: 0.5688 - val_acc: 0.8891\n",
      "Epoch 37/40\n",
      "469/469 - 6s - loss: 0.1382 - acc: 0.9662 - val_loss: 0.6996 - val_acc: 0.8848\n",
      "Epoch 38/40\n",
      "469/469 - 7s - loss: 0.1469 - acc: 0.9640 - val_loss: 0.5975 - val_acc: 0.8934\n",
      "Epoch 39/40\n",
      "469/469 - 7s - loss: 0.1365 - acc: 0.9670 - val_loss: 0.6791 - val_acc: 0.8977\n",
      "Epoch 40/40\n",
      "469/469 - 6s - loss: 0.1327 - acc: 0.9679 - val_loss: 0.7591 - val_acc: 0.8887\n"
     ]
    }
   ],
   "source": [
    "history = model.fit(X_train, y_train,  validation_data=(X_test, y_test), batch_size=128, epochs= 40, verbose=2)"
   ]
  },
  {
   "cell_type": "code",
   "execution_count": 68,
   "metadata": {},
   "outputs": [],
   "source": [
    "import matplotlib.pyplot as plt\n",
    "def show_acc(history):\n",
    "    acc = history.history['acc']\n",
    "    val_acc = history.history['val_acc']\n",
    "    loss = history.history['loss']\n",
    "    val_loss = history.history['val_loss']\n",
    "    print(\"Train accuracy :\", history.history['acc'][-1])\n",
    "    print(\"Test accuracy  :\", history.history['val_acc'][-1])\n",
    "    epochs = range(len(acc))\n",
    "\n",
    "    plt.plot(epochs, acc, 'b', label='Training acc')\n",
    "    plt.plot(epochs, val_acc, 'm', label='Testing acc')\n",
    "    plt.title('Training and testing accuracy')\n",
    "    plt.legend()\n",
    "\n",
    "    plt.figure()\n",
    "    \n",
    "    plt.plot(epochs, loss, 'b', label='Training loss')\n",
    "    plt.plot(epochs, val_loss, 'm', label='Testing loss')\n",
    "    plt.title('Training and test loss')\n",
    "    plt.legend()\n",
    "\n",
    "    plt.show()"
   ]
  },
  {
   "cell_type": "code",
   "execution_count": 69,
   "metadata": {
    "scrolled": false
   },
   "outputs": [
    {
     "name": "stdout",
     "output_type": "stream",
     "text": [
      "Train accuracy : 0.9678999781608582\n",
      "Test accuracy  : 0.888700008392334\n"
     ]
    },
    {
     "data": {
      "image/png": "[encoded data removed]",
      "text/plain": [
       "<Figure size 432x288 with 1 Axes>"
      ]
     },
     "metadata": {
      "needs_background": "light"
     },
     "output_type": "display_data"
    },
    {
     "data": {
      "image/png": "[encoded data removed]",
      "text/plain": [
       "<Figure size 432x288 with 1 Axes>"
      ]
     },
     "metadata": {
      "needs_background": "light"
     },
     "output_type": "display_data"
    }
   ],
   "source": [
    "show_acc(history)"
   ]
  },
  {
   "cell_type": "code",
   "execution_count": 70,
   "metadata": {},
   "outputs": [],
   "source": [
    "predictions = model.predict(X_test)"
   ]
  },
  {
   "cell_type": "code",
   "execution_count": 71,
   "metadata": {},
   "outputs": [],
   "source": [
    "delta=0.1\n",
    "predicitions_modified=np.zeros(predictions.shape)\n",
    "for i in range(predictions.shape[0]):\n",
    "    for j in range (predictions.shape[1]):\n",
    "        if(predictions[i][j]>1-delta):\n",
    "            predicitions_modified[i][j]=1"
   ]
  },
  {
   "cell_type": "code",
   "execution_count": 72,
   "metadata": {},
   "outputs": [
    {
     "name": "stdout",
     "output_type": "stream",
     "text": [
      "8303  predictions were correct \n",
      "1697  predictions were incorrect \n",
      "83.03\n"
     ]
    }
   ],
   "source": [
    "correct=0\n",
    "incorrect=0\n",
    "for i in range (len(predictions)):\n",
    "    if ((predicitions_modified[i]==y_test[i]).all()):\n",
    "        correct+=1\n",
    "    else:\n",
    "        incorrect+=1\n",
    "print(correct, \" predictions were correct \")\n",
    "print(incorrect, \" predictions were incorrect \")\n",
    "print(100*correct/(correct+incorrect))"
   ]
  },
  {
   "cell_type": "markdown",
   "metadata": {},
   "source": [
    "# Second model"
   ]
  },
  {
   "cell_type": "code",
   "execution_count": 73,
   "metadata": {},
   "outputs": [],
   "source": [
    "model = Sequential()\n",
    "model.add(Dense(512, activation='relu', input_shape=(28* 28, )))\n",
    "model.add(Dropout(0.1))\n",
    "model.add(Dense(512, activation='relu'))\n",
    "model.add(Dropout(0.1))\n",
    "model.add(Dense(10, activation=\"softmax\"))\n",
    "\n",
    "model.compile(loss='categorical_crossentropy', metrics=['acc'], optimizer='adam')"
   ]
  },
  {
   "cell_type": "code",
   "execution_count": 74,
   "metadata": {},
   "outputs": [
    {
     "name": "stdout",
     "output_type": "stream",
     "text": [
      "Epoch 1/40\n",
      "469/469 - 9s - loss: 4.2144 - acc: 0.8011 - val_loss: 1.4280 - val_acc: 0.7701\n",
      "Epoch 2/40\n",
      "469/469 - 8s - loss: 0.5838 - acc: 0.8859 - val_loss: 0.7561 - val_acc: 0.8098\n",
      "Epoch 3/40\n",
      "469/469 - 7s - loss: 0.3147 - acc: 0.9196 - val_loss: 0.6947 - val_acc: 0.8338\n",
      "Epoch 4/40\n",
      "469/469 - 7s - loss: 0.2510 - acc: 0.9326 - val_loss: 0.6409 - val_acc: 0.8433\n",
      "Epoch 5/40\n",
      "469/469 - 7s - loss: 0.2023 - acc: 0.9446 - val_loss: 0.6080 - val_acc: 0.8574\n",
      "Epoch 6/40\n",
      "469/469 - 7s - loss: 0.1855 - acc: 0.9477 - val_loss: 0.6123 - val_acc: 0.8648\n",
      "Epoch 7/40\n",
      "469/469 - 7s - loss: 0.1766 - acc: 0.9512 - val_loss: 0.5895 - val_acc: 0.8643\n",
      "Epoch 8/40\n",
      "469/469 - 7s - loss: 0.1804 - acc: 0.9500 - val_loss: 0.7105 - val_acc: 0.8501\n",
      "Epoch 9/40\n",
      "469/469 - 7s - loss: 0.1780 - acc: 0.9511 - val_loss: 0.5945 - val_acc: 0.8679\n",
      "Epoch 10/40\n",
      "469/469 - 6s - loss: 0.1669 - acc: 0.9547 - val_loss: 0.5816 - val_acc: 0.8729\n",
      "Epoch 11/40\n",
      "469/469 - 6s - loss: 0.1665 - acc: 0.9556 - val_loss: 0.5736 - val_acc: 0.8779\n",
      "Epoch 12/40\n",
      "469/469 - 6s - loss: 0.1503 - acc: 0.9595 - val_loss: 0.5804 - val_acc: 0.8732\n",
      "Epoch 13/40\n",
      "469/469 - 7s - loss: 0.1676 - acc: 0.9574 - val_loss: 0.6419 - val_acc: 0.8791\n",
      "Epoch 14/40\n",
      "469/469 - 6s - loss: 0.1643 - acc: 0.9578 - val_loss: 0.6437 - val_acc: 0.8768\n",
      "Epoch 15/40\n",
      "469/469 - 6s - loss: 0.1537 - acc: 0.9617 - val_loss: 0.5557 - val_acc: 0.8888\n",
      "Epoch 16/40\n",
      "469/469 - 7s - loss: 0.1480 - acc: 0.9615 - val_loss: 0.6118 - val_acc: 0.8885\n",
      "Epoch 17/40\n",
      "469/469 - 6s - loss: 0.1480 - acc: 0.9645 - val_loss: 0.5557 - val_acc: 0.8886\n",
      "Epoch 18/40\n",
      "469/469 - 6s - loss: 0.1477 - acc: 0.9634 - val_loss: 0.6483 - val_acc: 0.8791\n",
      "Epoch 19/40\n",
      "469/469 - 7s - loss: 0.1381 - acc: 0.9657 - val_loss: 0.6741 - val_acc: 0.8798\n",
      "Epoch 20/40\n",
      "469/469 - 6s - loss: 0.1381 - acc: 0.9659 - val_loss: 0.6171 - val_acc: 0.8889\n",
      "Epoch 21/40\n",
      "469/469 - 6s - loss: 0.1286 - acc: 0.9679 - val_loss: 0.6827 - val_acc: 0.8847\n",
      "Epoch 22/40\n",
      "469/469 - 7s - loss: 0.1313 - acc: 0.9675 - val_loss: 0.7016 - val_acc: 0.8930\n",
      "Epoch 23/40\n",
      "469/469 - 6s - loss: 0.1319 - acc: 0.9685 - val_loss: 0.6992 - val_acc: 0.8933\n",
      "Epoch 24/40\n",
      "469/469 - 6s - loss: 0.1300 - acc: 0.9693 - val_loss: 0.7221 - val_acc: 0.8905\n",
      "Epoch 25/40\n",
      "469/469 - 7s - loss: 0.1282 - acc: 0.9704 - val_loss: 0.7489 - val_acc: 0.8966\n",
      "Epoch 26/40\n",
      "469/469 - 7s - loss: 0.1080 - acc: 0.9746 - val_loss: 0.8245 - val_acc: 0.8908\n",
      "Epoch 27/40\n",
      "469/469 - 7s - loss: 0.1116 - acc: 0.9732 - val_loss: 0.7731 - val_acc: 0.8941\n",
      "Epoch 28/40\n",
      "469/469 - 6s - loss: 0.1350 - acc: 0.9714 - val_loss: 0.7875 - val_acc: 0.8833\n",
      "Epoch 29/40\n",
      "469/469 - 7s - loss: 0.1009 - acc: 0.9764 - val_loss: 0.6411 - val_acc: 0.8918\n",
      "Epoch 30/40\n",
      "469/469 - 8s - loss: 0.1065 - acc: 0.9767 - val_loss: 0.6942 - val_acc: 0.9006\n",
      "Epoch 31/40\n",
      "469/469 - 8s - loss: 0.1077 - acc: 0.9773 - val_loss: 0.9219 - val_acc: 0.8923\n",
      "Epoch 32/40\n",
      "469/469 - 8s - loss: 0.1236 - acc: 0.9739 - val_loss: 0.9282 - val_acc: 0.8909\n",
      "Epoch 33/40\n",
      "469/469 - 8s - loss: 0.1125 - acc: 0.9756 - val_loss: 0.8018 - val_acc: 0.8967\n",
      "Epoch 34/40\n",
      "469/469 - 8s - loss: 0.1040 - acc: 0.9771 - val_loss: 0.8180 - val_acc: 0.9022\n",
      "Epoch 35/40\n",
      "469/469 - 7s - loss: 0.1079 - acc: 0.9771 - val_loss: 0.8240 - val_acc: 0.8994\n",
      "Epoch 36/40\n",
      "469/469 - 7s - loss: 0.1044 - acc: 0.9775 - val_loss: 0.6947 - val_acc: 0.8979\n",
      "Epoch 37/40\n",
      "469/469 - 7s - loss: 0.0997 - acc: 0.9784 - val_loss: 0.8634 - val_acc: 0.8986\n",
      "Epoch 38/40\n",
      "469/469 - 7s - loss: 0.1141 - acc: 0.9766 - val_loss: 0.7795 - val_acc: 0.9009\n",
      "Epoch 39/40\n",
      "469/469 - 8s - loss: 0.0848 - acc: 0.9808 - val_loss: 0.8606 - val_acc: 0.9041\n",
      "Epoch 40/40\n",
      "469/469 - 7s - loss: 0.0965 - acc: 0.9790 - val_loss: 0.7718 - val_acc: 0.9029\n"
     ]
    }
   ],
   "source": [
    "history = model.fit(X_train, y_train,  validation_data=(X_test, y_test), batch_size=128, epochs= 40, verbose=2)"
   ]
  },
  {
   "cell_type": "code",
   "execution_count": 75,
   "metadata": {},
   "outputs": [],
   "source": [
    "import matplotlib.pyplot as plt\n",
    "def show_acc(history):\n",
    "    acc = history.history['acc']\n",
    "    val_acc = history.history['val_acc']\n",
    "    loss = history.history['loss']\n",
    "    val_loss = history.history['val_loss']\n",
    "    print(\"Train accuracy :\", history.history['acc'][-1])\n",
    "    print(\"Test accuracy  :\", history.history['val_acc'][-1])\n",
    "    epochs = range(len(acc))\n",
    "\n",
    "    plt.plot(epochs, acc, 'b', label='Training acc')\n",
    "    plt.plot(epochs, val_acc, 'm', label='Testing acc')\n",
    "    plt.title('Training and testing accuracy')\n",
    "    plt.legend()\n",
    "\n",
    "    plt.figure()\n",
    "    \n",
    "    plt.plot(epochs, loss, 'b', label='Training loss')\n",
    "    plt.plot(epochs, val_loss, 'm', label='Testing loss')\n",
    "    plt.title('Training and test loss')\n",
    "    plt.legend()\n",
    "\n",
    "    plt.show()"
   ]
  },
  {
   "cell_type": "code",
   "execution_count": 76,
   "metadata": {
    "scrolled": false
   },
   "outputs": [
    {
     "name": "stdout",
     "output_type": "stream",
     "text": [
      "Train accuracy : 0.979033350944519\n",
      "Test accuracy  : 0.902899980545044\n"
     ]
    },
    {
     "data": {
      "image/png": "[encoded data removed]",
      "text/plain": [
       "<Figure size 432x288 with 1 Axes>"
      ]
     },
     "metadata": {
      "needs_background": "light"
     },
     "output_type": "display_data"
    },
    {
     "data": {
      "image/png": "[encoded data removed]",
      "text/plain": [
       "<Figure size 432x288 with 1 Axes>"
      ]
     },
     "metadata": {
      "needs_background": "light"
     },
     "output_type": "display_data"
    }
   ],
   "source": [
    "show_acc(history)"
   ]
  },
  {
   "cell_type": "code",
   "execution_count": 77,
   "metadata": {},
   "outputs": [],
   "source": [
    "predictions = model.predict(X_test)"
   ]
  },
  {
   "cell_type": "code",
   "execution_count": 78,
   "metadata": {},
   "outputs": [],
   "source": [
    "delta=0.1\n",
    "predicitions_modified=np.zeros(predictions.shape)\n",
    "for i in range(predictions.shape[0]):\n",
    "    for j in range (predictions.shape[1]):\n",
    "        if(predictions[i][j]>1-delta):\n",
    "            predicitions_modified[i][j]=1\n"
   ]
  },
  {
   "cell_type": "code",
   "execution_count": 79,
   "metadata": {},
   "outputs": [
    {
     "name": "stdout",
     "output_type": "stream",
     "text": [
      "8606\n",
      "1394\n",
      "86.06\n"
     ]
    }
   ],
   "source": [
    "#correct_predictions=np.nonzero(predictions==y_test)[0]\n",
    "#incorrect_predictions=np.nonzero(predictions!=y_test)[0]\n",
    "correct=0\n",
    "incorrect=0\n",
    "for i in range (len(predictions)):\n",
    "    if ((predicitions_modified[i]==y_test[i]).all()):\n",
    "        correct+=1\n",
    "    else:\n",
    "        incorrect+=1\n",
    "print(correct)\n",
    "print(incorrect)\n",
    "print(100*correct/(correct+incorrect))"
   ]
  },
  {
   "cell_type": "markdown",
   "metadata": {},
   "source": [
    "# Third model"
   ]
  },
  {
   "cell_type": "code",
   "execution_count": 80,
   "metadata": {},
   "outputs": [],
   "source": [
    "model = Sequential()\n",
    "model.add(Dense(450, activation='relu', input_shape=(28* 28, )))\n",
    "model.add(Dropout(0.1))\n",
    "model.add(Dense(350, activation='relu'))\n",
    "model.add(Dropout(0.1))\n",
    "model.add(Dense(10, activation=\"softmax\"))\n",
    "\n",
    "model.compile(loss='categorical_crossentropy', metrics=['acc'], optimizer='adam')"
   ]
  },
  {
   "cell_type": "code",
   "execution_count": 81,
   "metadata": {},
   "outputs": [
    {
     "name": "stdout",
     "output_type": "stream",
     "text": [
      "Epoch 1/40\n",
      "469/469 - 8s - loss: 4.3308 - acc: 0.7824 - val_loss: 1.0877 - val_acc: 0.7552\n",
      "Epoch 2/40\n",
      "469/469 - 6s - loss: 0.5503 - acc: 0.8709 - val_loss: 0.7510 - val_acc: 0.8073\n",
      "Epoch 3/40\n",
      "469/469 - 5s - loss: 0.3507 - acc: 0.9055 - val_loss: 0.6483 - val_acc: 0.8319\n",
      "Epoch 4/40\n",
      "469/469 - 5s - loss: 0.2665 - acc: 0.9257 - val_loss: 0.6098 - val_acc: 0.8473\n",
      "Epoch 5/40\n",
      "469/469 - 5s - loss: 0.2238 - acc: 0.9343 - val_loss: 0.5596 - val_acc: 0.8585\n",
      "Epoch 6/40\n",
      "469/469 - 5s - loss: 0.2021 - acc: 0.9410 - val_loss: 0.5438 - val_acc: 0.8672\n",
      "Epoch 7/40\n",
      "469/469 - 5s - loss: 0.1874 - acc: 0.9456 - val_loss: 0.5759 - val_acc: 0.8598\n",
      "Epoch 8/40\n",
      "469/469 - 4s - loss: 0.1763 - acc: 0.9485 - val_loss: 0.5620 - val_acc: 0.8732\n",
      "Epoch 9/40\n",
      "469/469 - 4s - loss: 0.1718 - acc: 0.9509 - val_loss: 0.5131 - val_acc: 0.8720\n",
      "Epoch 10/40\n",
      "469/469 - 5s - loss: 0.1700 - acc: 0.9514 - val_loss: 0.5571 - val_acc: 0.8707\n",
      "Epoch 11/40\n",
      "469/469 - 5s - loss: 0.1682 - acc: 0.9539 - val_loss: 0.6203 - val_acc: 0.8522\n",
      "Epoch 12/40\n",
      "469/469 - 4s - loss: 0.1554 - acc: 0.9561 - val_loss: 0.5471 - val_acc: 0.8793\n",
      "Epoch 13/40\n",
      "469/469 - 4s - loss: 0.1473 - acc: 0.9594 - val_loss: 0.5332 - val_acc: 0.8829\n",
      "Epoch 14/40\n",
      "469/469 - 5s - loss: 0.1449 - acc: 0.9604 - val_loss: 0.5863 - val_acc: 0.8776\n",
      "Epoch 15/40\n",
      "469/469 - 5s - loss: 0.1583 - acc: 0.9581 - val_loss: 0.5708 - val_acc: 0.8843\n",
      "Epoch 16/40\n",
      "469/469 - 5s - loss: 0.1500 - acc: 0.9606 - val_loss: 0.5160 - val_acc: 0.8879\n",
      "Epoch 17/40\n",
      "469/469 - 5s - loss: 0.1331 - acc: 0.9646 - val_loss: 0.6441 - val_acc: 0.8887\n",
      "Epoch 18/40\n",
      "469/469 - 4s - loss: 0.1287 - acc: 0.9647 - val_loss: 0.5075 - val_acc: 0.8939\n",
      "Epoch 19/40\n",
      "469/469 - 4s - loss: 0.1264 - acc: 0.9665 - val_loss: 0.5957 - val_acc: 0.8835\n",
      "Epoch 20/40\n",
      "469/469 - 5s - loss: 0.1334 - acc: 0.9660 - val_loss: 0.5748 - val_acc: 0.8869\n",
      "Epoch 21/40\n",
      "469/469 - 5s - loss: 0.1302 - acc: 0.9651 - val_loss: 0.6550 - val_acc: 0.8862\n",
      "Epoch 22/40\n",
      "469/469 - 5s - loss: 0.1371 - acc: 0.9658 - val_loss: 0.6673 - val_acc: 0.8910\n",
      "Epoch 23/40\n",
      "469/469 - 4s - loss: 0.1210 - acc: 0.9690 - val_loss: 0.5840 - val_acc: 0.8956\n",
      "Epoch 24/40\n",
      "469/469 - 5s - loss: 0.1207 - acc: 0.9702 - val_loss: 0.6747 - val_acc: 0.8894\n",
      "Epoch 25/40\n",
      "469/469 - 5s - loss: 0.1199 - acc: 0.9706 - val_loss: 0.6515 - val_acc: 0.8854\n",
      "Epoch 26/40\n",
      "469/469 - 5s - loss: 0.1298 - acc: 0.9690 - val_loss: 0.6371 - val_acc: 0.8841\n",
      "Epoch 27/40\n",
      "469/469 - 5s - loss: 0.1025 - acc: 0.9749 - val_loss: 0.6837 - val_acc: 0.8971\n",
      "Epoch 28/40\n",
      "469/469 - 5s - loss: 0.1057 - acc: 0.9746 - val_loss: 0.8009 - val_acc: 0.8937\n",
      "Epoch 29/40\n",
      "469/469 - 5s - loss: 0.1095 - acc: 0.9742 - val_loss: 0.7444 - val_acc: 0.8923\n",
      "Epoch 30/40\n",
      "469/469 - 5s - loss: 0.1238 - acc: 0.9714 - val_loss: 0.8011 - val_acc: 0.8943\n",
      "Epoch 31/40\n",
      "469/469 - 4s - loss: 0.1073 - acc: 0.9745 - val_loss: 0.7973 - val_acc: 0.9009\n",
      "Epoch 32/40\n",
      "469/469 - 4s - loss: 0.1160 - acc: 0.9733 - val_loss: 0.7518 - val_acc: 0.8846\n",
      "Epoch 33/40\n",
      "469/469 - 5s - loss: 0.1004 - acc: 0.9762 - val_loss: 0.7651 - val_acc: 0.8936\n",
      "Epoch 34/40\n",
      "469/469 - 5s - loss: 0.1024 - acc: 0.9757 - val_loss: 0.7725 - val_acc: 0.8935\n",
      "Epoch 35/40\n",
      "469/469 - 5s - loss: 0.1116 - acc: 0.9756 - val_loss: 0.7276 - val_acc: 0.8956\n",
      "Epoch 36/40\n",
      "469/469 - 5s - loss: 0.0959 - acc: 0.9770 - val_loss: 0.6806 - val_acc: 0.8968\n",
      "Epoch 37/40\n",
      "469/469 - 5s - loss: 0.1029 - acc: 0.9769 - val_loss: 0.7462 - val_acc: 0.8949\n",
      "Epoch 38/40\n",
      "469/469 - 5s - loss: 0.0937 - acc: 0.9792 - val_loss: 0.7620 - val_acc: 0.9000\n",
      "Epoch 39/40\n",
      "469/469 - 5s - loss: 0.0876 - acc: 0.9790 - val_loss: 0.7745 - val_acc: 0.8990\n",
      "Epoch 40/40\n",
      "469/469 - 5s - loss: 0.1033 - acc: 0.9778 - val_loss: 0.8712 - val_acc: 0.8973\n"
     ]
    }
   ],
   "source": [
    "history = model.fit(X_train, y_train,  validation_data=(X_test, y_test), batch_size=128, epochs= 40, verbose=2)"
   ]
  },
  {
   "cell_type": "code",
   "execution_count": 82,
   "metadata": {},
   "outputs": [],
   "source": [
    "import matplotlib.pyplot as plt\n",
    "def show_acc(history):\n",
    "    acc = history.history['acc']\n",
    "    val_acc = history.history['val_acc']\n",
    "    loss = history.history['loss']\n",
    "    val_loss = history.history['val_loss']\n",
    "    print(\"Train accuracy :\", history.history['acc'][-1])\n",
    "    print(\"Test accuracy  :\", history.history['val_acc'][-1])\n",
    "    epochs = range(len(acc))\n",
    "\n",
    "    plt.plot(epochs, acc, 'b', label='Training acc')\n",
    "    plt.plot(epochs, val_acc, 'm', label='Testing acc')\n",
    "    plt.title('Training and testing accuracy')\n",
    "    plt.legend()\n",
    "\n",
    "    plt.figure()\n",
    "    \n",
    "    plt.plot(epochs, loss, 'b', label='Training loss')\n",
    "    plt.plot(epochs, val_loss, 'm', label='Testing loss')\n",
    "    plt.title('Training and test loss')\n",
    "    plt.legend()\n",
    "\n",
    "    plt.show()"
   ]
  },
  {
   "cell_type": "code",
   "execution_count": 83,
   "metadata": {
    "scrolled": false
   },
   "outputs": [
    {
     "name": "stdout",
     "output_type": "stream",
     "text": [
      "Train accuracy : 0.9778333306312561\n",
      "Test accuracy  : 0.8973000049591064\n"
     ]
    },
    {
     "data": {
      "image/png": "[encoded data removed]",
      "text/plain": [
       "<Figure size 432x288 with 1 Axes>"
      ]
     },
     "metadata": {
      "needs_background": "light"
     },
     "output_type": "display_data"
    },
    {
     "data": {
      "image/png": "[encoded data removed]",
      "text/plain": [
       "<Figure size 432x288 with 1 Axes>"
      ]
     },
     "metadata": {
      "needs_background": "light"
     },
     "output_type": "display_data"
    }
   ],
   "source": [
    "show_acc(history)"
   ]
  },
  {
   "cell_type": "code",
   "execution_count": 84,
   "metadata": {},
   "outputs": [],
   "source": [
    "predictions = model.predict(X_test)"
   ]
  },
  {
   "cell_type": "code",
   "execution_count": 85,
   "metadata": {},
   "outputs": [],
   "source": [
    "delta=0.1\n",
    "predicitions_modified=np.zeros(predictions.shape)\n",
    "for i in range(predictions.shape[0]):\n",
    "    for j in range (predictions.shape[1]):\n",
    "        if(predictions[i][j]>1-delta):\n",
    "            predicitions_modified[i][j]=1"
   ]
  },
  {
   "cell_type": "code",
   "execution_count": 86,
   "metadata": {},
   "outputs": [
    {
     "name": "stdout",
     "output_type": "stream",
     "text": [
      "8503\n",
      "1497\n",
      "85.03\n"
     ]
    }
   ],
   "source": [
    "#correct_predictions=np.nonzero(predictions==y_test)[0]\n",
    "#incorrect_predictions=np.nonzero(predictions!=y_test)[0]\n",
    "correct=0\n",
    "incorrect=0\n",
    "for i in range (len(predictions)):\n",
    "    if ((predicitions_modified[i]==y_test[i]).all()):\n",
    "        correct+=1\n",
    "    else:\n",
    "        incorrect+=1\n",
    "print(correct)\n",
    "print(incorrect)\n",
    "print(100*correct/(correct+incorrect))"
   ]
  },
  {
   "cell_type": "markdown",
   "metadata": {},
   "source": [
    "# Fourth model"
   ]
  },
  {
   "cell_type": "code",
   "execution_count": 87,
   "metadata": {},
   "outputs": [],
   "source": [
    "model = Sequential()\n",
    "model.add(Dense(450, activation='tanh', input_shape=(28* 28, )))\n",
    "model.add(Dropout(0.1))\n",
    "model.add(Dense(350, activation='tanh'))\n",
    "model.add(Dropout(0.1))\n",
    "model.add(Dense(10, activation=\"softmax\"))\n",
    "\n",
    "model.compile(loss='categorical_crossentropy', metrics=['acc'], optimizer='adam')"
   ]
  },
  {
   "cell_type": "code",
   "execution_count": 88,
   "metadata": {},
   "outputs": [
    {
     "name": "stdout",
     "output_type": "stream",
     "text": [
      "Epoch 1/40\n",
      "469/469 - 6s - loss: 0.7300 - acc: 0.7665 - val_loss: 1.0482 - val_acc: 0.6749\n",
      "Epoch 2/40\n",
      "469/469 - 5s - loss: 0.5744 - acc: 0.8152 - val_loss: 0.8453 - val_acc: 0.7298\n",
      "Epoch 3/40\n",
      "469/469 - 6s - loss: 0.5046 - acc: 0.8397 - val_loss: 0.7560 - val_acc: 0.7596\n",
      "Epoch 4/40\n",
      "469/469 - 5s - loss: 0.4680 - acc: 0.8496 - val_loss: 0.7142 - val_acc: 0.7800\n",
      "Epoch 5/40\n",
      "469/469 - 4s - loss: 0.4315 - acc: 0.8641 - val_loss: 0.7444 - val_acc: 0.7595\n",
      "Epoch 6/40\n",
      "469/469 - 5s - loss: 0.4257 - acc: 0.8630 - val_loss: 0.7008 - val_acc: 0.7831\n",
      "Epoch 7/40\n",
      "469/469 - 5s - loss: 0.4103 - acc: 0.8695 - val_loss: 0.6405 - val_acc: 0.8003\n",
      "Epoch 8/40\n",
      "469/469 - 5s - loss: 0.3903 - acc: 0.8765 - val_loss: 0.6360 - val_acc: 0.8052\n",
      "Epoch 9/40\n",
      "469/469 - 4s - loss: 0.3709 - acc: 0.8812 - val_loss: 0.6430 - val_acc: 0.7968\n",
      "Epoch 10/40\n",
      "469/469 - 5s - loss: 0.3725 - acc: 0.8816 - val_loss: 0.6323 - val_acc: 0.7992\n",
      "Epoch 11/40\n",
      "469/469 - 5s - loss: 0.3542 - acc: 0.8870 - val_loss: 0.6072 - val_acc: 0.8081\n",
      "Epoch 12/40\n",
      "469/469 - 5s - loss: 0.3377 - acc: 0.8919 - val_loss: 0.5645 - val_acc: 0.8242\n",
      "Epoch 13/40\n",
      "469/469 - 4s - loss: 0.3337 - acc: 0.8930 - val_loss: 0.5721 - val_acc: 0.8233\n",
      "Epoch 14/40\n",
      "469/469 - 5s - loss: 0.3329 - acc: 0.8934 - val_loss: 0.6146 - val_acc: 0.8081\n",
      "Epoch 15/40\n",
      "469/469 - 6s - loss: 0.3283 - acc: 0.8958 - val_loss: 0.5934 - val_acc: 0.8131\n",
      "Epoch 16/40\n",
      "469/469 - 6s - loss: 0.3173 - acc: 0.8994 - val_loss: 0.5500 - val_acc: 0.8271\n",
      "Epoch 17/40\n",
      "469/469 - 5s - loss: 0.3087 - acc: 0.9018 - val_loss: 0.5487 - val_acc: 0.8255\n",
      "Epoch 18/40\n",
      "469/469 - 5s - loss: 0.3005 - acc: 0.9053 - val_loss: 0.5428 - val_acc: 0.8321\n",
      "Epoch 19/40\n",
      "469/469 - 6s - loss: 0.2984 - acc: 0.9043 - val_loss: 0.5541 - val_acc: 0.8313\n",
      "Epoch 20/40\n",
      "469/469 - 5s - loss: 0.2909 - acc: 0.9075 - val_loss: 0.5416 - val_acc: 0.8337\n",
      "Epoch 21/40\n",
      "469/469 - 5s - loss: 0.2849 - acc: 0.9100 - val_loss: 0.5436 - val_acc: 0.8316\n",
      "Epoch 22/40\n",
      "469/469 - 6s - loss: 0.2891 - acc: 0.9084 - val_loss: 0.5212 - val_acc: 0.8415\n",
      "Epoch 23/40\n",
      "469/469 - 6s - loss: 0.2794 - acc: 0.9108 - val_loss: 0.5162 - val_acc: 0.8433\n",
      "Epoch 24/40\n",
      "469/469 - 5s - loss: 0.2722 - acc: 0.9143 - val_loss: 0.5256 - val_acc: 0.8381\n",
      "Epoch 25/40\n",
      "469/469 - 5s - loss: 0.2747 - acc: 0.9121 - val_loss: 0.5150 - val_acc: 0.8469\n",
      "Epoch 26/40\n",
      "469/469 - 6s - loss: 0.2738 - acc: 0.9129 - val_loss: 0.5465 - val_acc: 0.8325\n",
      "Epoch 27/40\n",
      "469/469 - 6s - loss: 0.2574 - acc: 0.9187 - val_loss: 0.4976 - val_acc: 0.8501\n",
      "Epoch 28/40\n",
      "469/469 - 5s - loss: 0.2571 - acc: 0.9194 - val_loss: 0.5103 - val_acc: 0.8448\n",
      "Epoch 29/40\n",
      "469/469 - 5s - loss: 0.2538 - acc: 0.9192 - val_loss: 0.4951 - val_acc: 0.8545\n",
      "Epoch 30/40\n",
      "469/469 - 5s - loss: 0.2473 - acc: 0.9209 - val_loss: 0.4797 - val_acc: 0.8526\n",
      "Epoch 31/40\n",
      "469/469 - 5s - loss: 0.2511 - acc: 0.9205 - val_loss: 0.5097 - val_acc: 0.8460\n",
      "Epoch 32/40\n",
      "469/469 - 6s - loss: 0.2497 - acc: 0.9215 - val_loss: 0.4966 - val_acc: 0.8497\n",
      "Epoch 33/40\n",
      "469/469 - 5s - loss: 0.2479 - acc: 0.9217 - val_loss: 0.4865 - val_acc: 0.8517\n",
      "Epoch 34/40\n",
      "469/469 - 4s - loss: 0.2512 - acc: 0.9191 - val_loss: 0.4846 - val_acc: 0.8575\n",
      "Epoch 35/40\n",
      "469/469 - 5s - loss: 0.2389 - acc: 0.9238 - val_loss: 0.4811 - val_acc: 0.8570\n",
      "Epoch 36/40\n",
      "469/469 - 6s - loss: 0.2443 - acc: 0.9222 - val_loss: 0.4822 - val_acc: 0.8587\n",
      "Epoch 37/40\n",
      "469/469 - 5s - loss: 0.2466 - acc: 0.9213 - val_loss: 0.4786 - val_acc: 0.8575\n",
      "Epoch 38/40\n",
      "469/469 - 4s - loss: 0.2476 - acc: 0.9204 - val_loss: 0.5151 - val_acc: 0.8412\n",
      "Epoch 39/40\n",
      "469/469 - 5s - loss: 0.2460 - acc: 0.9208 - val_loss: 0.4746 - val_acc: 0.8542\n",
      "Epoch 40/40\n",
      "469/469 - 6s - loss: 0.2365 - acc: 0.9245 - val_loss: 0.4837 - val_acc: 0.8544\n"
     ]
    }
   ],
   "source": [
    "history = model.fit(X_train, y_train,  validation_data=(X_test, y_test), batch_size=128, epochs= 40, verbose=2)"
   ]
  },
  {
   "cell_type": "code",
   "execution_count": 89,
   "metadata": {},
   "outputs": [],
   "source": [
    "import matplotlib.pyplot as plt\n",
    "def show_acc(history):\n",
    "    acc = history.history['acc']\n",
    "    val_acc = history.history['val_acc']\n",
    "    loss = history.history['loss']\n",
    "    val_loss = history.history['val_loss']\n",
    "    print(\"Train accuracy :\", history.history['acc'][-1])\n",
    "    print(\"Test accuracy  :\", history.history['val_acc'][-1])\n",
    "    epochs = range(len(acc))\n",
    "\n",
    "    plt.plot(epochs, acc, 'b', label='Training acc')\n",
    "    plt.plot(epochs, val_acc, 'm', label='Testing acc')\n",
    "    plt.title('Training and testing accuracy')\n",
    "    plt.legend()\n",
    "\n",
    "    plt.figure()\n",
    "    \n",
    "    plt.plot(epochs, loss, 'b', label='Training loss')\n",
    "    plt.plot(epochs, val_loss, 'm', label='Testing loss')\n",
    "    plt.title('Training and test loss')\n",
    "    plt.legend()\n",
    "\n",
    "    plt.show()"
   ]
  },
  {
   "cell_type": "code",
   "execution_count": 90,
   "metadata": {
    "scrolled": false
   },
   "outputs": [
    {
     "name": "stdout",
     "output_type": "stream",
     "text": [
      "Train accuracy : 0.9244833588600159\n",
      "Test accuracy  : 0.8543999791145325\n"
     ]
    },
    {
     "data": {
      "image/png": "[encoded data removed]",
      "text/plain": [
       "<Figure size 432x288 with 1 Axes>"
      ]
     },
     "metadata": {
      "needs_background": "light"
     },
     "output_type": "display_data"
    },
    {
     "data": {
      "image/png": "[encoded data removed]",
      "text/plain": [
       "<Figure size 432x288 with 1 Axes>"
      ]
     },
     "metadata": {
      "needs_background": "light"
     },
     "output_type": "display_data"
    }
   ],
   "source": [
    "show_acc(history)"
   ]
  },
  {
   "cell_type": "code",
   "execution_count": 91,
   "metadata": {},
   "outputs": [],
   "source": [
    "predictions = model.predict(X_test)"
   ]
  },
  {
   "cell_type": "code",
   "execution_count": 92,
   "metadata": {},
   "outputs": [],
   "source": [
    "delta=0.1\n",
    "predicitions_modified=np.zeros(predictions.shape)\n",
    "for i in range(predictions.shape[0]):\n",
    "    for j in range (predictions.shape[1]):\n",
    "        if(predictions[i][j]>1-delta):\n",
    "            predicitions_modified[i][j]=1"
   ]
  },
  {
   "cell_type": "code",
   "execution_count": 93,
   "metadata": {},
   "outputs": [
    {
     "name": "stdout",
     "output_type": "stream",
     "text": [
      "6809\n",
      "3191\n",
      "68.09\n"
     ]
    }
   ],
   "source": [
    "correct=0\n",
    "incorrect=0\n",
    "for i in range (len(predictions)):\n",
    "    if ((predicitions_modified[i]==y_test[i]).all()):\n",
    "        correct+=1\n",
    "    else:\n",
    "        incorrect+=1\n",
    "print(correct)\n",
    "print(incorrect)\n",
    "print(100*correct/(correct+incorrect))"
   ]
  },
  {
   "cell_type": "markdown",
   "metadata": {},
   "source": [
    "# Fifth model"
   ]
  },
  {
   "cell_type": "code",
   "execution_count": 94,
   "metadata": {},
   "outputs": [],
   "source": [
    "model = Sequential()\n",
    "model.add(Dense(500, activation='relu', input_shape=(28* 28, )))\n",
    "model.add(Dropout(0.1))\n",
    "model.add(Dense(400, activation='relu'))\n",
    "model.add(Dropout(0.1))\n",
    "model.add(Dense(250, activation='relu'))\n",
    "model.add(Dropout(0.1))\n",
    "model.add(Dense(10, activation=\"softmax\"))\n",
    "\n",
    "model.compile(loss='categorical_crossentropy', metrics=['acc'], optimizer='adam')"
   ]
  },
  {
   "cell_type": "code",
   "execution_count": 95,
   "metadata": {},
   "outputs": [
    {
     "name": "stdout",
     "output_type": "stream",
     "text": [
      "Epoch 1/40\n",
      "469/469 - 8s - loss: 3.0961 - acc: 0.7487 - val_loss: 0.8599 - val_acc: 0.7393\n",
      "Epoch 2/40\n",
      "469/469 - 8s - loss: 0.4714 - acc: 0.8637 - val_loss: 0.6507 - val_acc: 0.8073\n",
      "Epoch 3/40\n",
      "469/469 - 7s - loss: 0.3353 - acc: 0.9011 - val_loss: 0.6334 - val_acc: 0.8176\n",
      "Epoch 4/40\n",
      "469/469 - 6s - loss: 0.2612 - acc: 0.9220 - val_loss: 0.5345 - val_acc: 0.8497\n",
      "Epoch 5/40\n",
      "469/469 - 7s - loss: 0.2239 - acc: 0.9331 - val_loss: 0.4907 - val_acc: 0.8627\n",
      "Epoch 6/40\n",
      "469/469 - 6s - loss: 0.1945 - acc: 0.9411 - val_loss: 0.4930 - val_acc: 0.8698\n",
      "Epoch 7/40\n",
      "469/469 - 6s - loss: 0.1692 - acc: 0.9498 - val_loss: 0.4472 - val_acc: 0.8819\n",
      "Epoch 8/40\n",
      "469/469 - 7s - loss: 0.1581 - acc: 0.9539 - val_loss: 0.4739 - val_acc: 0.8795\n",
      "Epoch 9/40\n",
      "469/469 - 7s - loss: 0.1537 - acc: 0.9543 - val_loss: 0.4391 - val_acc: 0.8879\n",
      "Epoch 10/40\n",
      "469/469 - 6s - loss: 0.1425 - acc: 0.9581 - val_loss: 0.4940 - val_acc: 0.8779\n",
      "Epoch 11/40\n",
      "469/469 - 7s - loss: 0.1362 - acc: 0.9594 - val_loss: 0.4319 - val_acc: 0.8951\n",
      "Epoch 12/40\n",
      "469/469 - 7s - loss: 0.1247 - acc: 0.9632 - val_loss: 0.5048 - val_acc: 0.8844\n",
      "Epoch 13/40\n",
      "469/469 - 6s - loss: 0.1188 - acc: 0.9645 - val_loss: 0.4641 - val_acc: 0.8938\n",
      "Epoch 14/40\n",
      "469/469 - 7s - loss: 0.1151 - acc: 0.9668 - val_loss: 0.4964 - val_acc: 0.8959\n",
      "Epoch 15/40\n",
      "469/469 - 7s - loss: 0.1187 - acc: 0.9676 - val_loss: 0.4881 - val_acc: 0.8860\n",
      "Epoch 16/40\n",
      "469/469 - 6s - loss: 0.1077 - acc: 0.9693 - val_loss: 0.4675 - val_acc: 0.8992\n",
      "Epoch 17/40\n",
      "469/469 - 6s - loss: 0.1026 - acc: 0.9710 - val_loss: 0.5780 - val_acc: 0.8727\n",
      "Epoch 18/40\n",
      "469/469 - 6s - loss: 0.0990 - acc: 0.9723 - val_loss: 0.4713 - val_acc: 0.8952\n",
      "Epoch 19/40\n",
      "469/469 - 7s - loss: 0.0953 - acc: 0.9742 - val_loss: 0.4950 - val_acc: 0.9034\n",
      "Epoch 20/40\n",
      "469/469 - 6s - loss: 0.0880 - acc: 0.9762 - val_loss: 0.5350 - val_acc: 0.8979\n",
      "Epoch 21/40\n",
      "469/469 - 6s - loss: 0.0876 - acc: 0.9757 - val_loss: 0.5259 - val_acc: 0.9043\n",
      "Epoch 22/40\n",
      "469/469 - 7s - loss: 0.0820 - acc: 0.9778 - val_loss: 0.5111 - val_acc: 0.9086\n",
      "Epoch 23/40\n",
      "469/469 - 6s - loss: 0.0929 - acc: 0.9751 - val_loss: 0.5241 - val_acc: 0.9111\n",
      "Epoch 24/40\n",
      "469/469 - 6s - loss: 0.0839 - acc: 0.9777 - val_loss: 0.5510 - val_acc: 0.9061\n",
      "Epoch 25/40\n",
      "469/469 - 7s - loss: 0.0695 - acc: 0.9815 - val_loss: 0.5450 - val_acc: 0.9061\n",
      "Epoch 26/40\n",
      "469/469 - 6s - loss: 0.0826 - acc: 0.9793 - val_loss: 0.5755 - val_acc: 0.9039\n",
      "Epoch 27/40\n",
      "469/469 - 6s - loss: 0.0838 - acc: 0.9782 - val_loss: 0.5555 - val_acc: 0.9055\n",
      "Epoch 28/40\n",
      "469/469 - 7s - loss: 0.0737 - acc: 0.9813 - val_loss: 0.4574 - val_acc: 0.9188\n",
      "Epoch 29/40\n",
      "469/469 - 6s - loss: 0.0660 - acc: 0.9829 - val_loss: 0.6868 - val_acc: 0.9107\n",
      "Epoch 30/40\n",
      "469/469 - 6s - loss: 0.0673 - acc: 0.9833 - val_loss: 0.7645 - val_acc: 0.9053\n",
      "Epoch 31/40\n",
      "469/469 - 7s - loss: 0.0749 - acc: 0.9814 - val_loss: 0.5988 - val_acc: 0.9079\n",
      "Epoch 32/40\n",
      "469/469 - 7s - loss: 0.0681 - acc: 0.9829 - val_loss: 0.6179 - val_acc: 0.9158\n",
      "Epoch 33/40\n",
      "469/469 - 6s - loss: 0.0727 - acc: 0.9828 - val_loss: 0.6040 - val_acc: 0.9126\n",
      "Epoch 34/40\n",
      "469/469 - 7s - loss: 0.0752 - acc: 0.9829 - val_loss: 0.7020 - val_acc: 0.9032\n",
      "Epoch 35/40\n",
      "469/469 - 7s - loss: 0.0688 - acc: 0.9834 - val_loss: 0.6369 - val_acc: 0.9090\n",
      "Epoch 36/40\n",
      "469/469 - 6s - loss: 0.0651 - acc: 0.9841 - val_loss: 0.7368 - val_acc: 0.9119\n",
      "Epoch 37/40\n",
      "469/469 - 7s - loss: 0.0581 - acc: 0.9861 - val_loss: 0.6603 - val_acc: 0.9114\n",
      "Epoch 38/40\n",
      "469/469 - 6s - loss: 0.0634 - acc: 0.9841 - val_loss: 0.6970 - val_acc: 0.9087\n",
      "Epoch 39/40\n",
      "469/469 - 6s - loss: 0.0526 - acc: 0.9874 - val_loss: 0.6853 - val_acc: 0.9137\n",
      "Epoch 40/40\n",
      "469/469 - 7s - loss: 0.0667 - acc: 0.9858 - val_loss: 0.8553 - val_acc: 0.9055\n"
     ]
    }
   ],
   "source": [
    "history = model.fit(X_train, y_train,  validation_data=(X_test, y_test), batch_size=128, epochs= 40, verbose=2)"
   ]
  },
  {
   "cell_type": "code",
   "execution_count": 36,
   "metadata": {},
   "outputs": [],
   "source": [
    "import matplotlib.pyplot as plt\n",
    "def show_acc(history):\n",
    "    acc = history.history['acc']\n",
    "    val_acc = history.history['val_acc']\n",
    "    loss = history.history['loss']\n",
    "    val_loss = history.history['val_loss']\n",
    "    print(\"Train accuracy :\", history.history['acc'][-1])\n",
    "    print(\"Test accuracy  :\", history.history['val_acc'][-1])\n",
    "    epochs = range(len(acc))\n",
    "\n",
    "    plt.plot(epochs, acc, 'b', label='Training acc')\n",
    "    plt.plot(epochs, val_acc, 'm', label='Testing acc')\n",
    "    plt.title('Training and testing accuracy')\n",
    "    plt.legend()\n",
    "\n",
    "    plt.figure()\n",
    "    \n",
    "    plt.plot(epochs, loss, 'b', label='Training loss')\n",
    "    plt.plot(epochs, val_loss, 'm', label='Testing loss')\n",
    "    plt.title('Training and test loss')\n",
    "    plt.legend()\n",
    "\n",
    "    plt.show()"
   ]
  },
  {
   "cell_type": "code",
   "execution_count": 97,
   "metadata": {
    "scrolled": false
   },
   "outputs": [
    {
     "name": "stdout",
     "output_type": "stream",
     "text": [
      "Train accuracy : 0.9857500195503235\n",
      "Test accuracy  : 0.9054999947547913\n"
     ]
    },
    {
     "data": {
      "image/png": "[encoded data removed]",
      "text/plain": [
       "<Figure size 432x288 with 1 Axes>"
      ]
     },
     "metadata": {
      "needs_background": "light"
     },
     "output_type": "display_data"
    },
    {
     "data": {
      "image/png": "[encoded data removed]",
      "text/plain": [
       "<Figure size 432x288 with 1 Axes>"
      ]
     },
     "metadata": {
      "needs_background": "light"
     },
     "output_type": "display_data"
    }
   ],
   "source": [
    "show_acc(history)"
   ]
  },
  {
   "cell_type": "code",
   "execution_count": 98,
   "metadata": {},
   "outputs": [],
   "source": [
    "predictions = model.predict(X_test)"
   ]
  },
  {
   "cell_type": "code",
   "execution_count": 99,
   "metadata": {},
   "outputs": [],
   "source": [
    "delta=0.1\n",
    "predicitions_modified=np.zeros(predictions.shape)\n",
    "for i in range(predictions.shape[0]):\n",
    "    for j in range (predictions.shape[1]):\n",
    "        if(predictions[i][j]>1-delta):\n",
    "            predicitions_modified[i][j]=1"
   ]
  },
  {
   "cell_type": "code",
   "execution_count": 100,
   "metadata": {},
   "outputs": [
    {
     "name": "stdout",
     "output_type": "stream",
     "text": [
      "8671\n",
      "1329\n",
      "86.71\n"
     ]
    }
   ],
   "source": [
    "#correct_predictions=np.nonzero(predictions==y_test)[0]\n",
    "#incorrect_predictions=np.nonzero(predictions!=y_test)[0]\n",
    "correct=0\n",
    "incorrect=0\n",
    "for i in range (len(predictions)):\n",
    "    if ((predicitions_modified[i]==y_test[i]).all()):\n",
    "        correct+=1\n",
    "    else:\n",
    "        incorrect+=1\n",
    "print(correct)\n",
    "print(incorrect)\n",
    "print(100*correct/(correct+incorrect))"
   ]
  },
  {
   "cell_type": "markdown",
   "metadata": {},
   "source": [
    "# Six model"
   ]
  },
  {
   "cell_type": "code",
   "execution_count": 31,
   "metadata": {},
   "outputs": [],
   "source": [
    "X_train = np.load('kmnist-train-imgs.npz')['arr_0']\n",
    "y_train= np.load('kmnist-train-labels.npz')['arr_0']\n",
    "\n",
    "X_test= np.load('kmnist-test-imgs.npz')['arr_0']\n",
    "y_test= np.load('kmnist-test-labels.npz')['arr_0']"
   ]
  },
  {
   "cell_type": "code",
   "execution_count": 32,
   "metadata": {},
   "outputs": [],
   "source": [
    "X_train = X_train.reshape((60000, 28, 28, 1))\n",
    "X_test  =  X_test.reshape((10000, 28, 28, 1))\n",
    "\n",
    "y_train = np_utils.to_categorical(y_train)\n",
    "y_test  = np_utils.to_categorical(y_test)"
   ]
  },
  {
   "cell_type": "code",
   "execution_count": 33,
   "metadata": {},
   "outputs": [],
   "source": [
    "model = Sequential()\n",
    "model.add( layers.Conv2D(32, (3, 3), activation='relu', input_shape=(28, 28, 1)) )\n",
    "model.add( layers.MaxPooling2D((2, 2)) )\n",
    "model.add( layers.Conv2D(64, (3, 3), activation='relu') )\n",
    "model.add( layers.MaxPooling2D((2, 2)) )\n",
    "model.add( layers.Conv2D(64, (3, 3), activation='relu') )\n",
    "model.add(layers.Flatten())\n",
    "model.add(layers.Dense(64, activation='relu'))\n",
    "model.add(layers.Dense(10, activation='softmax'))\n",
    "\n",
    "\n",
    "model.compile(loss='categorical_crossentropy', metrics=['acc'], optimizer='adam')"
   ]
  },
  {
   "cell_type": "code",
   "execution_count": 34,
   "metadata": {},
   "outputs": [
    {
     "name": "stdout",
     "output_type": "stream",
     "text": [
      "Epoch 1/10\n",
      "938/938 - 61s - loss: 0.4991 - acc: 0.8779 - val_loss: 0.5415 - val_acc: 0.8468\n",
      "Epoch 2/10\n",
      "938/938 - 43s - loss: 0.1312 - acc: 0.9595 - val_loss: 0.3197 - val_acc: 0.9128\n",
      "Epoch 3/10\n",
      "938/938 - 39s - loss: 0.0841 - acc: 0.9745 - val_loss: 0.3195 - val_acc: 0.9190\n",
      "Epoch 4/10\n",
      "938/938 - 41s - loss: 0.0684 - acc: 0.9786 - val_loss: 0.3096 - val_acc: 0.9222\n",
      "Epoch 5/10\n",
      "938/938 - 42s - loss: 0.0558 - acc: 0.9824 - val_loss: 0.2606 - val_acc: 0.9352\n",
      "Epoch 6/10\n",
      "938/938 - 40s - loss: 0.0462 - acc: 0.9852 - val_loss: 0.2476 - val_acc: 0.9401\n",
      "Epoch 7/10\n",
      "938/938 - 42s - loss: 0.0425 - acc: 0.9864 - val_loss: 0.2899 - val_acc: 0.9344\n",
      "Epoch 8/10\n",
      "938/938 - 40s - loss: 0.0363 - acc: 0.9890 - val_loss: 0.2675 - val_acc: 0.9381\n",
      "Epoch 9/10\n",
      "938/938 - 43s - loss: 0.0309 - acc: 0.9904 - val_loss: 0.3236 - val_acc: 0.9378\n",
      "Epoch 10/10\n",
      "938/938 - 43s - loss: 0.0322 - acc: 0.9903 - val_loss: 0.2965 - val_acc: 0.9430\n"
     ]
    }
   ],
   "source": [
    "history = model.fit(X_train, y_train,  validation_data=(X_test, y_test), batch_size=64, epochs= 10, verbose=2)"
   ]
  },
  {
   "cell_type": "code",
   "execution_count": 40,
   "metadata": {
    "scrolled": false
   },
   "outputs": [
    {
     "name": "stdout",
     "output_type": "stream",
     "text": [
      "Train accuracy : 0.9903166890144348\n",
      "Test accuracy  : 0.9430000185966492\n"
     ]
    },
    {
     "data": {
      "image/png": "[encoded data removed]",
      "text/plain": [
       "<Figure size 432x288 with 1 Axes>"
      ]
     },
     "metadata": {
      "needs_background": "light"
     },
     "output_type": "display_data"
    },
    {
     "data": {
      "image/png": "[encoded data removed]",
      "text/plain": [
       "<Figure size 432x288 with 1 Axes>"
      ]
     },
     "metadata": {
      "needs_background": "light"
     },
     "output_type": "display_data"
    }
   ],
   "source": [
    "show_acc(history)"
   ]
  },
  {
   "cell_type": "code",
   "execution_count": 39,
   "metadata": {},
   "outputs": [],
   "source": [
    "predictions = model.predict(X_test)"
   ]
  },
  {
   "cell_type": "code",
   "execution_count": 41,
   "metadata": {},
   "outputs": [],
   "source": [
    "delta=0.1\n",
    "predicitions_modified=np.zeros(predictions.shape)\n",
    "for i in range(predictions.shape[0]):\n",
    "    for j in range (predictions.shape[1]):\n",
    "        if(predictions[i][j]>1-delta):\n",
    "            predicitions_modified[i][j]=1"
   ]
  },
  {
   "cell_type": "code",
   "execution_count": 42,
   "metadata": {},
   "outputs": [
    {
     "name": "stdout",
     "output_type": "stream",
     "text": [
      "9078\n",
      "922\n",
      "90.78\n"
     ]
    }
   ],
   "source": [
    "correct=0\n",
    "incorrect=0\n",
    "for i in range (len(predictions)):\n",
    "    if ((predicitions_modified[i]==y_test[i]).all()):\n",
    "        correct+=1\n",
    "    else:\n",
    "        incorrect+=1\n",
    "print(correct)\n",
    "print(incorrect)\n",
    "print(100*correct/(correct+incorrect))"
   ]
  },
  {
   "cell_type": "code",
   "execution_count": 43,
   "metadata": {
    "scrolled": true
   },
   "outputs": [
    {
     "name": "stdout",
     "output_type": "stream",
     "text": [
      "313/313 [==============================] - 3s 10ms/step - loss: 0.2965 - acc: 0.9430: 1s - los\n"
     ]
    },
    {
     "data": {
      "text/plain": [
       "[0.29645171761512756, 0.9430000185966492]"
      ]
     },
     "execution_count": 43,
     "metadata": {},
     "output_type": "execute_result"
    }
   ],
   "source": [
    "model.evaluate(X_test,y_test)"
   ]
  },
  {
   "cell_type": "code",
   "execution_count": null,
   "metadata": {},
   "outputs": [],
   "source": []
  },
  {
   "cell_type": "code",
   "execution_count": null,
   "metadata": {},
   "outputs": [],
   "source": []
  },
  {
   "cell_type": "code",
   "execution_count": null,
   "metadata": {},
   "outputs": [],
   "source": []
  },
  {
   "cell_type": "code",
   "execution_count": 1,
   "metadata": {},
   "outputs": [],
   "source": [
    "from tensorflow.keras.utils import image_dataset_from_directory\n",
    "import numpy as np\n",
    "from matplotlib import pyplot as plt\n",
    "import seaborn as sns\n",
    "\n",
    "from tensorflow.keras.models import Sequential\n",
    "\n",
    "from tensorflow.keras import layers\n",
    "\n",
    "from sklearn.metrics import confusion_matrix, roc_curve, roc_auc_score,auc, accuracy_score"
   ]
  },
  {
   "cell_type": "code",
   "execution_count": 21,
   "metadata": {},
   "outputs": [
    {
     "name": "stdout",
     "output_type": "stream",
     "text": [
      "Found 5066 files belonging to 10 classes.\n",
      "Found 2000 files belonging to 10 classes.\n"
     ]
    }
   ],
   "source": [
    "size = (64, 64)\n",
    "# Source : https://www.tensorflow.org/api_docs/python/tf/keras/utils/image_dataset_from_directory\n",
    "train_data = image_dataset_from_directory(\"train\",  labels='inferred', image_size = size, label_mode=\"categorical\")\n",
    "\n",
    "test_data = image_dataset_from_directory(\"test\", labels='inferred', image_size = size,  label_mode=\"categorical\")"
   ]
  },
  {
   "cell_type": "code",
   "execution_count": 22,
   "metadata": {},
   "outputs": [],
   "source": [
    "classes = train_data.class_names"
   ]
  },
  {
   "cell_type": "code",
   "execution_count": 60,
   "metadata": {},
   "outputs": [
    {
     "ename": "TypeError",
     "evalue": "only integer scalar arrays can be converted to a scalar index",
     "output_type": "error",
     "traceback": [
      "\u001b[0;31m---------------------------------------------------------------------------\u001b[0m",
      "\u001b[0;31mTypeError\u001b[0m                                 Traceback (most recent call last)",
      "\u001b[0;32m<ipython-input-60-3ca6da9c3e56>\u001b[0m in \u001b[0;36m<module>\u001b[0;34m\u001b[0m\n\u001b[1;32m      5\u001b[0m         \u001b[0mplt\u001b[0m\u001b[0;34m.\u001b[0m\u001b[0msubplot\u001b[0m\u001b[0;34m(\u001b[0m\u001b[0;36m7\u001b[0m\u001b[0;34m,\u001b[0m \u001b[0;36m5\u001b[0m\u001b[0;34m,\u001b[0m \u001b[0mi\u001b[0m \u001b[0;34m+\u001b[0m \u001b[0;36m1\u001b[0m\u001b[0;34m)\u001b[0m\u001b[0;34m\u001b[0m\u001b[0;34m\u001b[0m\u001b[0m\n\u001b[1;32m      6\u001b[0m         \u001b[0mplt\u001b[0m\u001b[0;34m.\u001b[0m\u001b[0mimshow\u001b[0m\u001b[0;34m(\u001b[0m\u001b[0mnp\u001b[0m\u001b[0;34m.\u001b[0m\u001b[0marray\u001b[0m\u001b[0;34m(\u001b[0m\u001b[0mimages\u001b[0m\u001b[0;34m[\u001b[0m\u001b[0mi\u001b[0m\u001b[0;34m]\u001b[0m\u001b[0;34m)\u001b[0m\u001b[0;34m.\u001b[0m\u001b[0mastype\u001b[0m\u001b[0;34m(\u001b[0m\u001b[0;34m\"uint8\"\u001b[0m\u001b[0;34m)\u001b[0m\u001b[0;34m)\u001b[0m\u001b[0;34m\u001b[0m\u001b[0;34m\u001b[0m\u001b[0m\n\u001b[0;32m----> 7\u001b[0;31m         \u001b[0mplt\u001b[0m\u001b[0;34m.\u001b[0m\u001b[0mtitle\u001b[0m\u001b[0;34m(\u001b[0m\u001b[0mclass_names\u001b[0m\u001b[0;34m[\u001b[0m\u001b[0mlabels\u001b[0m\u001b[0;34m[\u001b[0m\u001b[0mi\u001b[0m\u001b[0;34m]\u001b[0m\u001b[0;34m]\u001b[0m\u001b[0;34m)\u001b[0m\u001b[0;34m\u001b[0m\u001b[0;34m\u001b[0m\u001b[0m\n\u001b[0m\u001b[1;32m      8\u001b[0m         \u001b[0mplt\u001b[0m\u001b[0;34m.\u001b[0m\u001b[0maxis\u001b[0m\u001b[0;34m(\u001b[0m\u001b[0;34m\"off\"\u001b[0m\u001b[0;34m)\u001b[0m\u001b[0;34m\u001b[0m\u001b[0;34m\u001b[0m\u001b[0m\n",
      "\u001b[0;32m~/opt/anaconda3/lib/python3.8/site-packages/tensorflow/python/framework/ops.py\u001b[0m in \u001b[0;36m__index__\u001b[0;34m(self)\u001b[0m\n\u001b[1;32m   1055\u001b[0m \u001b[0;34m\u001b[0m\u001b[0m\n\u001b[1;32m   1056\u001b[0m   \u001b[0;32mdef\u001b[0m \u001b[0m__index__\u001b[0m\u001b[0;34m(\u001b[0m\u001b[0mself\u001b[0m\u001b[0;34m)\u001b[0m\u001b[0;34m:\u001b[0m\u001b[0;34m\u001b[0m\u001b[0;34m\u001b[0m\u001b[0m\n\u001b[0;32m-> 1057\u001b[0;31m     \u001b[0;32mreturn\u001b[0m \u001b[0mself\u001b[0m\u001b[0;34m.\u001b[0m\u001b[0m_numpy\u001b[0m\u001b[0;34m(\u001b[0m\u001b[0;34m)\u001b[0m\u001b[0;34m.\u001b[0m\u001b[0m__index__\u001b[0m\u001b[0;34m(\u001b[0m\u001b[0;34m)\u001b[0m\u001b[0;34m\u001b[0m\u001b[0;34m\u001b[0m\u001b[0m\n\u001b[0m\u001b[1;32m   1058\u001b[0m \u001b[0;34m\u001b[0m\u001b[0m\n\u001b[1;32m   1059\u001b[0m   \u001b[0;32mdef\u001b[0m \u001b[0m__bool__\u001b[0m\u001b[0;34m(\u001b[0m\u001b[0mself\u001b[0m\u001b[0;34m)\u001b[0m\u001b[0;34m:\u001b[0m\u001b[0;34m\u001b[0m\u001b[0;34m\u001b[0m\u001b[0m\n",
      "\u001b[0;31mTypeError\u001b[0m: only integer scalar arrays can be converted to a scalar index"
     ]
    },
    {
     "data": {
      "image/png": "[encoded data removed]",
      "text/plain": [
       "<Figure size 1080x1800 with 1 Axes>"
      ]
     },
     "metadata": {
      "needs_background": "light"
     },
     "output_type": "display_data"
    }
   ],
   "source": [
    "plt.figure(figsize=(15, 25))\n",
    "class_names = train_data.class_names\n",
    "for images, labels in train_data.take(1):\n",
    "    for i in range(10):\n",
    "        plt.subplot(7, 5, i + 1)\n",
    "        plt.imshow(np.array(images[i]).astype(\"uint8\"))\n",
    "        plt.title(class_names[labels[i]])\n",
    "        plt.axis(\"off\")"
   ]
  },
  {
   "cell_type": "code",
   "execution_count": 63,
   "metadata": {},
   "outputs": [
    {
     "name": "stdout",
     "output_type": "stream",
     "text": [
      "['Bean' 'Bitter_Gourd' 'Bottle_Gourd' 'Brinjal' 'Broccoli' 'Cabbage'\n",
      " 'Capsicum' 'Carrot' 'Cauliflower' 'Cucumber']\n"
     ]
    }
   ],
   "source": [
    "print(classes)"
   ]
  },
  {
   "cell_type": "code",
   "execution_count": 64,
   "metadata": {
    "scrolled": true
   },
   "outputs": [],
   "source": [
    "import matplotlib.pyplot as plt\n",
    "def show_acc(history):\n",
    "    acc = history.history['acc']\n",
    "    val_acc = history.history['val_acc']\n",
    "    loss = history.history['loss']\n",
    "    val_loss = history.history['val_loss']\n",
    "    print(\"Train accuracy :\", history.history['acc'][-1])\n",
    "    print(\"Test accuracy  :\", history.history['val_acc'][-1])\n",
    "    epochs = range(len(acc))\n",
    "\n",
    "    plt.plot(epochs, acc, 'b', label='Training acc')\n",
    "    plt.plot(epochs, val_acc, 'm', label='Testing acc')\n",
    "    plt.title('Training and testing accuracy')\n",
    "    plt.legend()\n",
    "\n",
    "    plt.figure()\n",
    "    \n",
    "    plt.plot(epochs, loss, 'b', label='Training loss')\n",
    "    plt.plot(epochs, val_loss, 'm', label='Testing loss')\n",
    "    plt.title('Training and test loss')\n",
    "    plt.legend()\n",
    "\n",
    "    plt.show()"
   ]
  },
  {
   "cell_type": "markdown",
   "metadata": {},
   "source": [
    "### Model 1"
   ]
  },
  {
   "cell_type": "code",
   "execution_count": 68,
   "metadata": {},
   "outputs": [],
   "source": [
    "model = Sequential()\n",
    "model.add(layers.InputLayer(input_shape=(size[0], size[1], 3)))\n",
    "model.add(layers.Rescaling(scale=1./255))\n",
    "\n",
    "model.add(layers.Flatten())\n",
    "model.add(layers.Dense(2, activation=\"tanh\"))\n",
    "model.add(layers.Dense(len(classes), activation='softmax'))\n",
    "\n",
    "# Compilation du modèle\n",
    "model.compile(optimizer='adam', metrics=['acc'], loss='categorical_crossentropy')\n"
   ]
  },
  {
   "cell_type": "code",
   "execution_count": 69,
   "metadata": {},
   "outputs": [
    {
     "name": "stdout",
     "output_type": "stream",
     "text": [
      "Epoch 1/20\n",
      "159/159 [==============================] - 4s 22ms/step - loss: 2.3634 - acc: 0.1032 - val_loss: 2.3026 - val_acc: 0.1000\n",
      "Epoch 2/20\n",
      "159/159 [==============================] - 6s 36ms/step - loss: 2.3026 - acc: 0.1072 - val_loss: 2.3027 - val_acc: 0.1000\n",
      "Epoch 3/20\n",
      "159/159 [==============================] - 4s 25ms/step - loss: 2.3025 - acc: 0.1072 - val_loss: 2.3027 - val_acc: 0.1000\n",
      "Epoch 4/20\n",
      "159/159 [==============================] - 5s 29ms/step - loss: 2.3025 - acc: 0.1072 - val_loss: 2.3028 - val_acc: 0.1000\n",
      "Epoch 5/20\n",
      "159/159 [==============================] - 5s 27ms/step - loss: 2.3025 - acc: 0.1072 - val_loss: 2.3028 - val_acc: 0.1000\n",
      "Epoch 6/20\n",
      "159/159 [==============================] - 6s 37ms/step - loss: 2.3024 - acc: 0.1072 - val_loss: 2.3028 - val_acc: 0.1000\n",
      "Epoch 7/20\n",
      "159/159 [==============================] - 6s 36ms/step - loss: 2.3025 - acc: 0.1072 - val_loss: 2.3029 - val_acc: 0.1000\n",
      "Epoch 8/20\n",
      "159/159 [==============================] - 4s 25ms/step - loss: 2.3024 - acc: 0.1072 - val_loss: 2.3029 - val_acc: 0.1000\n",
      "Epoch 9/20\n",
      "159/159 [==============================] - 6s 34ms/step - loss: 2.3024 - acc: 0.1072 - val_loss: 2.3029 - val_acc: 0.1000\n",
      "Epoch 10/20\n",
      "159/159 [==============================] - 3s 21ms/step - loss: 2.3024 - acc: 0.1072 - val_loss: 2.3029 - val_acc: 0.1000\n",
      "Epoch 11/20\n",
      "159/159 [==============================] - 4s 22ms/step - loss: 2.3024 - acc: 0.1072 - val_loss: 2.3030 - val_acc: 0.1000\n",
      "Epoch 12/20\n",
      "159/159 [==============================] - 3s 19ms/step - loss: 2.3024 - acc: 0.1072 - val_loss: 2.3030 - val_acc: 0.1000\n",
      "Epoch 13/20\n",
      "159/159 [==============================] - 3s 21ms/step - loss: 2.3024 - acc: 0.1072 - val_loss: 2.3030 - val_acc: 0.1000\n",
      "Epoch 14/20\n",
      "159/159 [==============================] - 3s 19ms/step - loss: 2.3024 - acc: 0.1072 - val_loss: 2.3029 - val_acc: 0.1000\n",
      "Epoch 15/20\n",
      "159/159 [==============================] - 3s 20ms/step - loss: 2.3024 - acc: 0.1072 - val_loss: 2.3030 - val_acc: 0.1000\n",
      "Epoch 16/20\n",
      "159/159 [==============================] - 3s 17ms/step - loss: 2.3024 - acc: 0.1072 - val_loss: 2.3030 - val_acc: 0.1000\n",
      "Epoch 17/20\n",
      "159/159 [==============================] - 3s 20ms/step - loss: 2.3024 - acc: 0.1072 - val_loss: 2.3030 - val_acc: 0.1000\n",
      "Epoch 18/20\n",
      "159/159 [==============================] - 3s 20ms/step - loss: 2.3024 - acc: 0.1072 - val_loss: 2.3030 - val_acc: 0.1000\n",
      "Epoch 19/20\n",
      "159/159 [==============================] - 3s 17ms/step - loss: 2.3024 - acc: 0.1072 - val_loss: 2.3029 - val_acc: 0.1000\n",
      "Epoch 20/20\n",
      "159/159 [==============================] - 4s 25ms/step - loss: 2.3024 - acc: 0.1072 - val_loss: 2.3029 - val_acc: 0.1000\n"
     ]
    }
   ],
   "source": [
    "history = model.fit(train_data, validation_data=test_data, epochs=20, verbose=1, batch_size=500)"
   ]
  },
  {
   "cell_type": "code",
   "execution_count": 70,
   "metadata": {
    "scrolled": true
   },
   "outputs": [
    {
     "name": "stdout",
     "output_type": "stream",
     "text": [
      "Train accuracy : 0.10718515515327454\n",
      "Test accuracy  : 0.10000000149011612\n"
     ]
    },
    {
     "data": {
      "image/png": "[encoded data removed]",
      "text/plain": [
       "<Figure size 432x288 with 1 Axes>"
      ]
     },
     "metadata": {
      "needs_background": "light"
     },
     "output_type": "display_data"
    },
    {
     "data": {
      "image/png": "[encoded data removed]",
      "text/plain": [
       "<Figure size 432x288 with 1 Axes>"
      ]
     },
     "metadata": {
      "needs_background": "light"
     },
     "output_type": "display_data"
    }
   ],
   "source": [
    "show_acc(history)"
   ]
  },
  {
   "cell_type": "markdown",
   "metadata": {},
   "source": [
    "### Model 2"
   ]
  },
  {
   "cell_type": "code",
   "execution_count": 68,
   "metadata": {},
   "outputs": [],
   "source": [
    "model = Sequential()\n",
    "model.add(layers.InputLayer(input_shape=(size[0], size[1], 3)))\n",
    "model.add(layers.Rescaling(scale=1./255))\n",
    "\n",
    "model.add(layers.Flatten())\n",
    "model.add(layers.Dense(16, activation=\"relu\"))\n",
    "model.add(layers.Dense(len(classes), activation='softmax'))\n",
    "\n",
    "# Compilation du modèle\n",
    "model.compile(optimizer='adam', metrics=['acc'], loss='categorical_crossentropy')\n"
   ]
  },
  {
   "cell_type": "code",
   "execution_count": 69,
   "metadata": {},
   "outputs": [
    {
     "name": "stdout",
     "output_type": "stream",
     "text": [
      "Epoch 1/20\n",
      "159/159 [==============================] - 4s 22ms/step - loss: 2.3634 - acc: 0.1032 - val_loss: 2.3026 - val_acc: 0.1000\n",
      "Epoch 2/20\n",
      "159/159 [==============================] - 6s 36ms/step - loss: 2.3026 - acc: 0.1072 - val_loss: 2.3027 - val_acc: 0.1000\n",
      "Epoch 3/20\n",
      "159/159 [==============================] - 4s 25ms/step - loss: 2.3025 - acc: 0.1072 - val_loss: 2.3027 - val_acc: 0.1000\n",
      "Epoch 4/20\n",
      "159/159 [==============================] - 5s 29ms/step - loss: 2.3025 - acc: 0.1072 - val_loss: 2.3028 - val_acc: 0.1000\n",
      "Epoch 5/20\n",
      "159/159 [==============================] - 5s 27ms/step - loss: 2.3025 - acc: 0.1072 - val_loss: 2.3028 - val_acc: 0.1000\n",
      "Epoch 6/20\n",
      "159/159 [==============================] - 6s 37ms/step - loss: 2.3024 - acc: 0.1072 - val_loss: 2.3028 - val_acc: 0.1000\n",
      "Epoch 7/20\n",
      "159/159 [==============================] - 6s 36ms/step - loss: 2.3025 - acc: 0.1072 - val_loss: 2.3029 - val_acc: 0.1000\n",
      "Epoch 8/20\n",
      "159/159 [==============================] - 4s 25ms/step - loss: 2.3024 - acc: 0.1072 - val_loss: 2.3029 - val_acc: 0.1000\n",
      "Epoch 9/20\n",
      "159/159 [==============================] - 6s 34ms/step - loss: 2.3024 - acc: 0.1072 - val_loss: 2.3029 - val_acc: 0.1000\n",
      "Epoch 10/20\n",
      "159/159 [==============================] - 3s 21ms/step - loss: 2.3024 - acc: 0.1072 - val_loss: 2.3029 - val_acc: 0.1000\n",
      "Epoch 11/20\n",
      "159/159 [==============================] - 4s 22ms/step - loss: 2.3024 - acc: 0.1072 - val_loss: 2.3030 - val_acc: 0.1000\n",
      "Epoch 12/20\n",
      "159/159 [==============================] - 3s 19ms/step - loss: 2.3024 - acc: 0.1072 - val_loss: 2.3030 - val_acc: 0.1000\n",
      "Epoch 13/20\n",
      "159/159 [==============================] - 3s 21ms/step - loss: 2.3024 - acc: 0.1072 - val_loss: 2.3030 - val_acc: 0.1000\n",
      "Epoch 14/20\n",
      "159/159 [==============================] - 3s 19ms/step - loss: 2.3024 - acc: 0.1072 - val_loss: 2.3029 - val_acc: 0.1000\n",
      "Epoch 15/20\n",
      "159/159 [==============================] - 3s 20ms/step - loss: 2.3024 - acc: 0.1072 - val_loss: 2.3030 - val_acc: 0.1000\n",
      "Epoch 16/20\n",
      "159/159 [==============================] - 3s 17ms/step - loss: 2.3024 - acc: 0.1072 - val_loss: 2.3030 - val_acc: 0.1000\n",
      "Epoch 17/20\n",
      "159/159 [==============================] - 3s 20ms/step - loss: 2.3024 - acc: 0.1072 - val_loss: 2.3030 - val_acc: 0.1000\n",
      "Epoch 18/20\n",
      "159/159 [==============================] - 3s 20ms/step - loss: 2.3024 - acc: 0.1072 - val_loss: 2.3030 - val_acc: 0.1000\n",
      "Epoch 19/20\n",
      "159/159 [==============================] - 3s 17ms/step - loss: 2.3024 - acc: 0.1072 - val_loss: 2.3029 - val_acc: 0.1000\n",
      "Epoch 20/20\n",
      "159/159 [==============================] - 4s 25ms/step - loss: 2.3024 - acc: 0.1072 - val_loss: 2.3029 - val_acc: 0.1000\n"
     ]
    }
   ],
   "source": [
    "history = model.fit(train_data, validation_data=test_data, epochs=20, verbose=1, batch_size=500)"
   ]
  },
  {
   "cell_type": "code",
   "execution_count": 70,
   "metadata": {
    "scrolled": true
   },
   "outputs": [
    {
     "name": "stdout",
     "output_type": "stream",
     "text": [
      "Train accuracy : 0.10718515515327454\n",
      "Test accuracy  : 0.10000000149011612\n"
     ]
    },
    {
     "data": {
      "image/png": "[encoded data removed]",
      "text/plain": [
       "<Figure size 432x288 with 1 Axes>"
      ]
     },
     "metadata": {
      "needs_background": "light"
     },
     "output_type": "display_data"
    },
    {
     "data": {
      "image/png": "[encoded data removed]",
      "text/plain": [
       "<Figure size 432x288 with 1 Axes>"
      ]
     },
     "metadata": {
      "needs_background": "light"
     },
     "output_type": "display_data"
    }
   ],
   "source": [
    "show_acc(history)"
   ]
  },
  {
   "cell_type": "markdown",
   "metadata": {},
   "source": [
    "### Model 3"
   ]
  },
  {
   "cell_type": "code",
   "execution_count": 65,
   "metadata": {},
   "outputs": [],
   "source": [
    "model = Sequential()\n",
    "model.add(layers.InputLayer(input_shape=(size[0], size[1], 3)))\n",
    "model.add(layers.Rescaling(scale=1./255))\n",
    "\n",
    "model.add(layers.Flatten())\n",
    "model.add(layers.Dense(16, activation=\"relu\"))\n",
    "model.add(layers.Dense(16, activation=\"relu\"))\n",
    "model.add(layers.Dense(len(classes), activation='softmax'))\n",
    "\n",
    "# Compilation du modèle\n",
    "model.compile(optimizer='adam', metrics=['acc'], loss='categorical_crossentropy')\n"
   ]
  },
  {
   "cell_type": "code",
   "execution_count": 66,
   "metadata": {},
   "outputs": [
    {
     "name": "stdout",
     "output_type": "stream",
     "text": [
      "Epoch 1/20\n",
      "159/159 [==============================] - 8s 49ms/step - loss: 2.3118 - acc: 0.1074 - val_loss: 2.3026 - val_acc: 0.1000\n",
      "Epoch 2/20\n",
      "159/159 [==============================] - 3s 20ms/step - loss: 2.3026 - acc: 0.1072 - val_loss: 2.3027 - val_acc: 0.1000\n",
      "Epoch 3/20\n",
      "159/159 [==============================] - 3s 16ms/step - loss: 2.3025 - acc: 0.1072 - val_loss: 2.3027 - val_acc: 0.1000\n",
      "Epoch 4/20\n",
      "159/159 [==============================] - 4s 27ms/step - loss: 2.3025 - acc: 0.1072 - val_loss: 2.3028 - val_acc: 0.1000\n",
      "Epoch 5/20\n",
      "159/159 [==============================] - 3s 21ms/step - loss: 2.3025 - acc: 0.1072 - val_loss: 2.3028 - val_acc: 0.1000\n",
      "Epoch 6/20\n",
      "159/159 [==============================] - 4s 24ms/step - loss: 2.3025 - acc: 0.1072 - val_loss: 2.3029 - val_acc: 0.1000\n",
      "Epoch 7/20\n",
      "159/159 [==============================] - 5s 30ms/step - loss: 2.3024 - acc: 0.1072 - val_loss: 2.3029 - val_acc: 0.1000\n",
      "Epoch 8/20\n",
      "159/159 [==============================] - 3s 19ms/step - loss: 2.3025 - acc: 0.1072 - val_loss: 2.3029 - val_acc: 0.1000\n",
      "Epoch 9/20\n",
      "159/159 [==============================] - 5s 29ms/step - loss: 2.3025 - acc: 0.1072 - val_loss: 2.3029 - val_acc: 0.1000\n",
      "Epoch 10/20\n",
      "159/159 [==============================] - 3s 18ms/step - loss: 2.3024 - acc: 0.1072 - val_loss: 2.3029 - val_acc: 0.1000\n",
      "Epoch 11/20\n",
      "159/159 [==============================] - 4s 25ms/step - loss: 2.3024 - acc: 0.1072 - val_loss: 2.3029 - val_acc: 0.1000\n",
      "Epoch 12/20\n",
      "159/159 [==============================] - 3s 20ms/step - loss: 2.3024 - acc: 0.1072 - val_loss: 2.3029 - val_acc: 0.1000\n",
      "Epoch 13/20\n",
      "159/159 [==============================] - 3s 17ms/step - loss: 2.3024 - acc: 0.1072 - val_loss: 2.3029 - val_acc: 0.1000\n",
      "Epoch 14/20\n",
      "159/159 [==============================] - 3s 21ms/step - loss: 2.3025 - acc: 0.1072 - val_loss: 2.3029 - val_acc: 0.1000\n",
      "Epoch 15/20\n",
      "159/159 [==============================] - 3s 20ms/step - loss: 2.3024 - acc: 0.1072 - val_loss: 2.3029 - val_acc: 0.1000\n",
      "Epoch 16/20\n",
      "159/159 [==============================] - 4s 26ms/step - loss: 2.3025 - acc: 0.1072 - val_loss: 2.3030 - val_acc: 0.1000\n",
      "Epoch 17/20\n",
      "159/159 [==============================] - 6s 38ms/step - loss: 2.3024 - acc: 0.1072 - val_loss: 2.3029 - val_acc: 0.1000\n",
      "Epoch 18/20\n",
      "159/159 [==============================] - 4s 24ms/step - loss: 2.3025 - acc: 0.1072 - val_loss: 2.3029 - val_acc: 0.1000\n",
      "Epoch 19/20\n",
      "159/159 [==============================] - 6s 36ms/step - loss: 2.3025 - acc: 0.1072 - val_loss: 2.3029 - val_acc: 0.1000\n",
      "Epoch 20/20\n",
      "159/159 [==============================] - 4s 23ms/step - loss: 2.3024 - acc: 0.1072 - val_loss: 2.3029 - val_acc: 0.1000\n"
     ]
    }
   ],
   "source": [
    "history = model.fit(train_data, validation_data=test_data, epochs=20, verbose=1, batch_size=500)"
   ]
  },
  {
   "cell_type": "code",
   "execution_count": 67,
   "metadata": {
    "scrolled": true
   },
   "outputs": [
    {
     "name": "stdout",
     "output_type": "stream",
     "text": [
      "Train accuracy : 0.10718515515327454\n",
      "Test accuracy  : 0.10000000149011612\n"
     ]
    },
    {
     "data": {
      "image/png": "[encoded data removed]",
      "text/plain": [
       "<Figure size 432x288 with 1 Axes>"
      ]
     },
     "metadata": {
      "needs_background": "light"
     },
     "output_type": "display_data"
    },
    {
     "data": {
      "image/png": "[encoded data removed]",
      "text/plain": [
       "<Figure size 432x288 with 1 Axes>"
      ]
     },
     "metadata": {
      "needs_background": "light"
     },
     "output_type": "display_data"
    }
   ],
   "source": [
    "show_acc(history)"
   ]
  },
  {
   "cell_type": "markdown",
   "metadata": {},
   "source": [
    "### Model 4"
   ]
  },
  {
   "cell_type": "code",
   "execution_count": 73,
   "metadata": {},
   "outputs": [],
   "source": [
    "model = Sequential()\n",
    "model.add(layers.InputLayer(input_shape=(size[0], size[1], 3)))\n",
    "model.add(layers.Rescaling(scale=1./255))\n",
    "\n",
    "model.add(layers.Flatten())\n",
    "model.add(layers.Dense(16, activation=\"relu\"))\n",
    "model.add(layers.Dense(32, activation=\"relu\"))\n",
    "model.add(layers.Dropout(.2))\n",
    "model.add(layers.Dense(128, activation=\"tanh\"))\n",
    "model.add(layers.Dense(len(classes), activation='softmax'))\n",
    "\n",
    "# Compilation du modèle\n",
    "model.compile(optimizer='adam', metrics=['acc'], loss='categorical_crossentropy')\n"
   ]
  },
  {
   "cell_type": "code",
   "execution_count": 75,
   "metadata": {},
   "outputs": [
    {
     "name": "stdout",
     "output_type": "stream",
     "text": [
      "Epoch 1/20\n",
      "159/159 - 3s - loss: 2.3034 - acc: 0.1038 - val_loss: 2.3031 - val_acc: 0.1000 - 3s/epoch - 17ms/step\n",
      "Epoch 2/20\n",
      "159/159 - 2s - loss: 2.3033 - acc: 0.1038 - val_loss: 2.3031 - val_acc: 0.1000 - 2s/epoch - 15ms/step\n",
      "Epoch 3/20\n",
      "159/159 - 2s - loss: 2.3034 - acc: 0.1034 - val_loss: 2.3031 - val_acc: 0.1000 - 2s/epoch - 16ms/step\n",
      "Epoch 4/20\n",
      "159/159 - 3s - loss: 2.3033 - acc: 0.1030 - val_loss: 2.3031 - val_acc: 0.1000 - 3s/epoch - 21ms/step\n",
      "Epoch 5/20\n",
      "159/159 - 3s - loss: 2.3036 - acc: 0.1028 - val_loss: 2.3033 - val_acc: 0.1000 - 3s/epoch - 19ms/step\n",
      "Epoch 6/20\n",
      "159/159 - 2s - loss: 2.3032 - acc: 0.1066 - val_loss: 2.3032 - val_acc: 0.1000 - 2s/epoch - 15ms/step\n",
      "Epoch 7/20\n",
      "159/159 - 3s - loss: 2.3033 - acc: 0.1042 - val_loss: 2.3032 - val_acc: 0.1000 - 3s/epoch - 16ms/step\n",
      "Epoch 8/20\n",
      "159/159 - 3s - loss: 2.3034 - acc: 0.1054 - val_loss: 2.3030 - val_acc: 0.1000 - 3s/epoch - 16ms/step\n",
      "Epoch 9/20\n",
      "159/159 - 2s - loss: 2.3033 - acc: 0.1040 - val_loss: 2.3031 - val_acc: 0.1000 - 2s/epoch - 15ms/step\n",
      "Epoch 10/20\n",
      "159/159 - 2s - loss: 2.3034 - acc: 0.1044 - val_loss: 2.3031 - val_acc: 0.1000 - 2s/epoch - 15ms/step\n",
      "Epoch 11/20\n",
      "159/159 - 3s - loss: 2.3034 - acc: 0.1050 - val_loss: 2.3030 - val_acc: 0.1000 - 3s/epoch - 19ms/step\n",
      "Epoch 12/20\n",
      "159/159 - 3s - loss: 2.3034 - acc: 0.1054 - val_loss: 2.3031 - val_acc: 0.1000 - 3s/epoch - 18ms/step\n",
      "Epoch 13/20\n",
      "159/159 - 2s - loss: 2.3032 - acc: 0.1072 - val_loss: 2.3030 - val_acc: 0.1000 - 2s/epoch - 15ms/step\n",
      "Epoch 14/20\n",
      "159/159 - 2s - loss: 2.3032 - acc: 0.1060 - val_loss: 2.3030 - val_acc: 0.1000 - 2s/epoch - 15ms/step\n",
      "Epoch 15/20\n",
      "159/159 - 3s - loss: 2.3031 - acc: 0.1044 - val_loss: 2.3030 - val_acc: 0.1000 - 3s/epoch - 19ms/step\n",
      "Epoch 16/20\n",
      "159/159 - 2s - loss: 2.3031 - acc: 0.1032 - val_loss: 2.3029 - val_acc: 0.1000 - 2s/epoch - 15ms/step\n",
      "Epoch 17/20\n",
      "159/159 - 2s - loss: 2.3031 - acc: 0.1072 - val_loss: 2.3030 - val_acc: 0.1000 - 2s/epoch - 15ms/step\n",
      "Epoch 18/20\n",
      "159/159 - 3s - loss: 2.3031 - acc: 0.1072 - val_loss: 2.3029 - val_acc: 0.1000 - 3s/epoch - 18ms/step\n",
      "Epoch 19/20\n",
      "159/159 - 2s - loss: 2.3031 - acc: 0.1048 - val_loss: 2.3030 - val_acc: 0.1000 - 2s/epoch - 16ms/step\n",
      "Epoch 20/20\n",
      "159/159 - 2s - loss: 2.3032 - acc: 0.1072 - val_loss: 2.3029 - val_acc: 0.1000 - 2s/epoch - 15ms/step\n"
     ]
    }
   ],
   "source": [
    "history = model.fit(train_data, validation_data=test_data, epochs=20, verbose=2, batch_size=500)"
   ]
  },
  {
   "cell_type": "code",
   "execution_count": 76,
   "metadata": {
    "scrolled": false
   },
   "outputs": [
    {
     "name": "stdout",
     "output_type": "stream",
     "text": [
      "Train accuracy : 0.10718515515327454\n",
      "Test accuracy  : 0.10000000149011612\n"
     ]
    },
    {
     "data": {
      "image/png": "[encoded data removed]",
      "text/plain": [
       "<Figure size 432x288 with 1 Axes>"
      ]
     },
     "metadata": {
      "needs_background": "light"
     },
     "output_type": "display_data"
    },
    {
     "data": {
      "image/png": "[encoded data removed]",
      "text/plain": [
       "<Figure size 432x288 with 1 Axes>"
      ]
     },
     "metadata": {
      "needs_background": "light"
     },
     "output_type": "display_data"
    }
   ],
   "source": [
    "show_acc(history)"
   ]
  },
  {
   "cell_type": "markdown",
   "metadata": {},
   "source": [
    "### Model 5"
   ]
  },
  {
   "cell_type": "code",
   "execution_count": 79,
   "metadata": {},
   "outputs": [],
   "source": [
    "model = Sequential()\n",
    "model.add(layers.InputLayer(input_shape=(size[0], size[1], 3)))\n",
    "model.add(layers.Rescaling(scale=1./255))\n",
    "\n",
    "model.add(layers.Conv2D(50, (3, 3), activation='relu'))\n",
    "model.add(layers.MaxPooling2D(pool_size=(2, 2)))\n",
    "\n",
    "model.add(layers.Conv2D(20, (3, 3), activation='relu'))\n",
    "model.add(layers.MaxPooling2D(pool_size=(2, 2)))\n",
    "\n",
    "\n",
    "model.add(layers.Flatten())\n",
    "model.add(layers.Dense(16, activation=\"relu\"))\n",
    "model.add(layers.Dense(64, activation=\"relu\"))\n",
    "model.add(layers.Dense(64, activation=\"relu\"))\n",
    "model.add(layers.Dense(len(classes), activation='softmax'))\n",
    "\n",
    "# Compilation du modèle\n",
    "model.compile(optimizer='adam', metrics=['acc'], loss='categorical_crossentropy')\n"
   ]
  },
  {
   "cell_type": "code",
   "execution_count": 80,
   "metadata": {},
   "outputs": [
    {
     "name": "stdout",
     "output_type": "stream",
     "text": [
      "Epoch 1/20\n",
      "159/159 - 21s - loss: 1.7428 - acc: 0.3448 - val_loss: 1.3661 - val_acc: 0.4800 - 21s/epoch - 132ms/step\n",
      "Epoch 2/20\n",
      "159/159 - 25s - loss: 1.1582 - acc: 0.5894 - val_loss: 1.0602 - val_acc: 0.6205 - 25s/epoch - 155ms/step\n",
      "Epoch 3/20\n",
      "159/159 - 26s - loss: 0.9688 - acc: 0.6581 - val_loss: 0.9790 - val_acc: 0.6325 - 26s/epoch - 161ms/step\n",
      "Epoch 4/20\n",
      "159/159 - 22s - loss: 0.8340 - acc: 0.7150 - val_loss: 0.8188 - val_acc: 0.7180 - 22s/epoch - 137ms/step\n",
      "Epoch 5/20\n",
      "159/159 - 31s - loss: 0.6722 - acc: 0.7720 - val_loss: 0.6670 - val_acc: 0.7625 - 31s/epoch - 194ms/step\n",
      "Epoch 6/20\n",
      "159/159 - 24s - loss: 0.5041 - acc: 0.8383 - val_loss: 0.5978 - val_acc: 0.7905 - 24s/epoch - 154ms/step\n",
      "Epoch 7/20\n",
      "159/159 - 25s - loss: 0.4349 - acc: 0.8589 - val_loss: 0.5834 - val_acc: 0.8050 - 25s/epoch - 158ms/step\n",
      "Epoch 8/20\n",
      "159/159 - 21s - loss: 0.3776 - acc: 0.8808 - val_loss: 0.6550 - val_acc: 0.7695 - 21s/epoch - 129ms/step\n",
      "Epoch 9/20\n",
      "159/159 - 22s - loss: 0.3650 - acc: 0.8843 - val_loss: 0.5377 - val_acc: 0.8165 - 22s/epoch - 137ms/step\n",
      "Epoch 10/20\n",
      "159/159 - 21s - loss: 0.2818 - acc: 0.9124 - val_loss: 0.4034 - val_acc: 0.8760 - 21s/epoch - 132ms/step\n",
      "Epoch 11/20\n",
      "159/159 - 24s - loss: 0.2386 - acc: 0.9252 - val_loss: 0.5240 - val_acc: 0.8365 - 24s/epoch - 148ms/step\n",
      "Epoch 12/20\n",
      "159/159 - 26s - loss: 0.1948 - acc: 0.9358 - val_loss: 0.4391 - val_acc: 0.8680 - 26s/epoch - 165ms/step\n",
      "Epoch 13/20\n",
      "159/159 - 27s - loss: 0.1709 - acc: 0.9461 - val_loss: 0.3631 - val_acc: 0.8925 - 27s/epoch - 170ms/step\n",
      "Epoch 14/20\n",
      "159/159 - 26s - loss: 0.1747 - acc: 0.9491 - val_loss: 0.3952 - val_acc: 0.8750 - 26s/epoch - 163ms/step\n",
      "Epoch 15/20\n",
      "159/159 - 23s - loss: 0.2038 - acc: 0.9353 - val_loss: 0.3444 - val_acc: 0.8965 - 23s/epoch - 145ms/step\n",
      "Epoch 16/20\n",
      "159/159 - 24s - loss: 0.1222 - acc: 0.9611 - val_loss: 0.4940 - val_acc: 0.8600 - 24s/epoch - 151ms/step\n",
      "Epoch 17/20\n",
      "159/159 - 26s - loss: 0.1073 - acc: 0.9672 - val_loss: 0.4430 - val_acc: 0.8690 - 26s/epoch - 163ms/step\n",
      "Epoch 18/20\n",
      "159/159 - 28s - loss: 0.1032 - acc: 0.9692 - val_loss: 0.6117 - val_acc: 0.8170 - 28s/epoch - 176ms/step\n",
      "Epoch 19/20\n",
      "159/159 - 30s - loss: 0.1157 - acc: 0.9625 - val_loss: 0.4080 - val_acc: 0.8850 - 30s/epoch - 189ms/step\n",
      "Epoch 20/20\n",
      "159/159 - 22s - loss: 0.0819 - acc: 0.9734 - val_loss: 0.4647 - val_acc: 0.8865 - 22s/epoch - 137ms/step\n"
     ]
    }
   ],
   "source": [
    "history = model.fit(train_data, validation_data=test_data, epochs=20, verbose=2, batch_size=500)"
   ]
  },
  {
   "cell_type": "code",
   "execution_count": 81,
   "metadata": {
    "scrolled": false
   },
   "outputs": [
    {
     "name": "stdout",
     "output_type": "stream",
     "text": [
      "Train accuracy : 0.973351776599884\n",
      "Test accuracy  : 0.8865000009536743\n"
     ]
    },
    {
     "data": {
      "image/png": "[encoded data removed]",
      "text/plain": [
       "<Figure size 432x288 with 1 Axes>"
      ]
     },
     "metadata": {
      "needs_background": "light"
     },
     "output_type": "display_data"
    },
    {
     "data": {
      "image/png": "[encoded data removed]",
      "text/plain": [
       "<Figure size 432x288 with 1 Axes>"
      ]
     },
     "metadata": {
      "needs_background": "light"
     },
     "output_type": "display_data"
    }
   ],
   "source": [
    "show_acc(history)"
   ]
  },
  {
   "cell_type": "markdown",
   "metadata": {},
   "source": [
    "### Model 6"
   ]
  },
  {
   "cell_type": "code",
   "execution_count": 52,
   "metadata": {},
   "outputs": [],
   "source": [
    "model = Sequential()\n",
    "model.add(layers.InputLayer(input_shape=(size[0], size[1], 3)))\n",
    "model.add(layers.Rescaling(scale=1./255))\n",
    "\n",
    "model.add(layers.Conv2D(32, (3, 3), activation='relu'))\n",
    "model.add(layers.MaxPooling2D(pool_size=(2, 2)))\n",
    "\n",
    "model.add(layers.Conv2D(20, (3, 3), activation='relu'))\n",
    "model.add(layers.MaxPooling2D(pool_size=(2, 2)))\n",
    "model.add(layers.Dropout(0.7))\n",
    "\n",
    "model.add(layers.Flatten())\n",
    "model.add(layers.Dense(16, activation=\"relu\"))\n",
    "model.add(layers.Dense(len(classes), activation='softmax'))\n",
    "\n",
    "# Compilation du modèle\n",
    "model.compile(optimizer='adam', metrics=['acc'], loss='categorical_crossentropy')\n"
   ]
  },
  {
   "cell_type": "code",
   "execution_count": 53,
   "metadata": {},
   "outputs": [
    {
     "name": "stdout",
     "output_type": "stream",
     "text": [
      "Epoch 1/20\n",
      "159/159 [==============================] - 19s 113ms/step - loss: 1.7979 - acc: 0.3176 - val_loss: 1.3460 - val_acc: 0.5140\n",
      "Epoch 2/20\n",
      "159/159 [==============================] - 20s 123ms/step - loss: 1.2438 - acc: 0.5736 - val_loss: 1.0054 - val_acc: 0.6735\n",
      "Epoch 3/20\n",
      "159/159 [==============================] - 16s 99ms/step - loss: 0.9748 - acc: 0.6678 - val_loss: 0.8202 - val_acc: 0.7360\n",
      "Epoch 4/20\n",
      "159/159 [==============================] - 16s 97ms/step - loss: 0.8078 - acc: 0.7278 - val_loss: 0.6657 - val_acc: 0.7815\n",
      "Epoch 5/20\n",
      "159/159 [==============================] - 16s 99ms/step - loss: 0.6992 - acc: 0.7653 - val_loss: 0.6584 - val_acc: 0.7720\n",
      "Epoch 6/20\n",
      "159/159 [==============================] - 15s 97ms/step - loss: 0.6022 - acc: 0.8064 - val_loss: 0.5246 - val_acc: 0.8260\n",
      "Epoch 7/20\n",
      "159/159 [==============================] - 16s 101ms/step - loss: 0.5308 - acc: 0.8214 - val_loss: 0.5013 - val_acc: 0.8280\n",
      "Epoch 8/20\n",
      "159/159 [==============================] - 16s 98ms/step - loss: 0.5007 - acc: 0.8371 - val_loss: 0.4905 - val_acc: 0.8415\n",
      "Epoch 9/20\n",
      "159/159 [==============================] - 17s 107ms/step - loss: 0.4475 - acc: 0.8581 - val_loss: 0.4114 - val_acc: 0.8745\n",
      "Epoch 10/20\n",
      "159/159 [==============================] - 16s 101ms/step - loss: 0.4092 - acc: 0.8679 - val_loss: 0.4174 - val_acc: 0.8685\n",
      "Epoch 11/20\n",
      "159/159 [==============================] - 17s 104ms/step - loss: 0.3538 - acc: 0.8871 - val_loss: 0.5227 - val_acc: 0.8140\n",
      "Epoch 12/20\n",
      "159/159 [==============================] - 16s 97ms/step - loss: 0.3679 - acc: 0.8790 - val_loss: 0.3486 - val_acc: 0.8930\n",
      "Epoch 13/20\n",
      "159/159 [==============================] - 16s 98ms/step - loss: 0.3418 - acc: 0.8899 - val_loss: 0.3519 - val_acc: 0.8905\n",
      "Epoch 14/20\n",
      "159/159 [==============================] - 16s 100ms/step - loss: 0.3121 - acc: 0.8995 - val_loss: 0.4040 - val_acc: 0.8675\n",
      "Epoch 15/20\n",
      "159/159 [==============================] - 20s 125ms/step - loss: 0.2856 - acc: 0.9070 - val_loss: 0.3664 - val_acc: 0.8840\n",
      "Epoch 16/20\n",
      "159/159 [==============================] - 16s 100ms/step - loss: 0.2770 - acc: 0.9131 - val_loss: 0.3436 - val_acc: 0.8945\n",
      "Epoch 17/20\n",
      "159/159 [==============================] - 17s 105ms/step - loss: 0.2555 - acc: 0.9193 - val_loss: 0.3578 - val_acc: 0.8855\n",
      "Epoch 18/20\n",
      "159/159 [==============================] - 16s 101ms/step - loss: 0.2642 - acc: 0.9151 - val_loss: 0.3129 - val_acc: 0.9065\n",
      "Epoch 19/20\n",
      "159/159 [==============================] - 25s 156ms/step - loss: 0.2422 - acc: 0.9205 - val_loss: 0.2751 - val_acc: 0.9145\n",
      "Epoch 20/20\n",
      "159/159 [==============================] - 27s 167ms/step - loss: 0.2257 - acc: 0.9270 - val_loss: 0.3013 - val_acc: 0.9150\n"
     ]
    }
   ],
   "source": [
    "history = model.fit(train_data, validation_data=test_data, epochs=20, verbose=1, batch_size=500)"
   ]
  },
  {
   "cell_type": "code",
   "execution_count": 54,
   "metadata": {},
   "outputs": [],
   "source": [
    "model.save('model.h5')"
   ]
  },
  {
   "cell_type": "code",
   "execution_count": 56,
   "metadata": {},
   "outputs": [
    {
     "name": "stdout",
     "output_type": "stream",
     "text": [
      "Train accuracy : 0.9269640445709229\n",
      "Test accuracy  : 0.9150000214576721\n"
     ]
    },
    {
     "data": {
      "image/png": "[encoded data removed]",
      "text/plain": [
       "<Figure size 432x288 with 1 Axes>"
      ]
     },
     "metadata": {
      "needs_background": "light"
     },
     "output_type": "display_data"
    },
    {
     "data": {
      "image/png": "[encoded data removed]",
      "text/plain": [
       "<Figure size 432x288 with 1 Axes>"
      ]
     },
     "metadata": {
      "needs_background": "light"
     },
     "output_type": "display_data"
    }
   ],
   "source": [
    "show_acc(history)"
   ]
  },
  {
   "cell_type": "code",
   "execution_count": 57,
   "metadata": {},
   "outputs": [
    {
     "name": "stdout",
     "output_type": "stream",
     "text": [
      "Found 2000 files belonging to 10 classes.\n"
     ]
    }
   ],
   "source": [
    "val_data = image_dataset_from_directory(\"validation\",  labels='inferred', image_size = size, label_mode=\"categorical\")"
   ]
  },
  {
   "cell_type": "code",
   "execution_count": 58,
   "metadata": {},
   "outputs": [
    {
     "name": "stdout",
     "output_type": "stream",
     "text": [
      "63/63 [==============================] - 5s 61ms/step - loss: 0.2571 - acc: 0.9285\n"
     ]
    },
    {
     "data": {
      "text/plain": [
       "[0.2570978105068207, 0.9284999966621399]"
      ]
     },
     "execution_count": 58,
     "metadata": {},
     "output_type": "execute_result"
    }
   ],
   "source": [
    "model.evaluate(val_data)"
   ]
  },
  {
   "cell_type": "code",
   "execution_count": null,
   "metadata": {},
   "outputs": [],
   "source": []
  },
  {
   "cell_type": "code",
   "execution_count": null,
   "metadata": {},
   "outputs": [],
   "source": []
  }
 ],
 "metadata": {
  "kernelspec": {
   "display_name": "Python 3",
   "language": "python",
   "name": "python3"
  },
  "language_info": {
   "codemirror_mode": {
    "name": "ipython",
    "version": 3
   },
   "file_extension": ".py",
   "mimetype": "text/x-python",
   "name": "python",
   "nbconvert_exporter": "python",
   "pygments_lexer": "ipython3",
   "version": "3.8.5"
  }
 },
 "nbformat": 4,
 "nbformat_minor": 4
}
